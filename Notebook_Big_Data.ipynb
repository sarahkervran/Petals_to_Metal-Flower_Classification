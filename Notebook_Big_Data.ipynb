{
 "cells": [
  {
   "cell_type": "markdown",
   "metadata": {},
   "source": [
    "# Petals to the Metal : Flower Classification"
   ]
  },
  {
   "cell_type": "markdown",
   "metadata": {},
   "source": [
    "Nous avons tout d'abord créé un nouvel environnement virtuel dans la version 3.7 de Python pour nous permettre d'acquérir la version 2.1.0 de tensorflow nécessaire à la manipulation des données. Nous avons ensuite installer sur le Prompt les librairies nécessaires."
   ]
  },
  {
   "cell_type": "code",
   "execution_count": 7,
   "metadata": {},
   "outputs": [
    {
     "data": {
      "text/plain": [
       "'c:\\\\users\\\\sarah\\\\anaconda3\\\\envs\\\\ml_test2'"
      ]
     },
     "execution_count": 7,
     "metadata": {},
     "output_type": "execute_result"
    }
   ],
   "source": [
    "import os\n",
    "import sys\n",
    "os.path.dirname(sys.executable) #Chemin d'accès à notre environnement "
   ]
  },
  {
   "cell_type": "code",
   "execution_count": 8,
   "metadata": {},
   "outputs": [],
   "source": [
    "import numpy as np\n",
    "import pandas as pd #pour manipuler des tableaux de données(dataframe) avec des étiquettes de variables (colonnes) et d'individus (lignes)\n",
    "import pandas_tfrecords as pdtfr \n",
    "import tensorflow as tf#bibliotheque open source de ML\n",
    "import cv2#aide dessin avec OpenCV,ajoute titres aux images, classifie images\n",
    "from PIL import Image,ImageTk # ajoute des capacités de traitement d'image à l'interpréteur Python\n",
    "import matplotlib.pyplot as plt #tracer graph des dataframes\n",
    "from resizeimage import resizeimage\n",
    "\n",
    "from sklearn.model_selection import GridSearchCV\n",
    "from sklearn import svm, metrics\n",
    "import io"
   ]
  },
  {
   "cell_type": "markdown",
   "metadata": {},
   "source": [
    "## Data"
   ]
  },
  {
   "cell_type": "code",
   "execution_count": 9,
   "metadata": {},
   "outputs": [
    {
     "data": {
      "text/plain": [
       "'C:\\\\Users\\\\sarah\\\\Desktop\\\\Cours\\\\Big_Data_Python'"
      ]
     },
     "execution_count": 9,
     "metadata": {},
     "output_type": "execute_result"
    }
   ],
   "source": [
    "os.getcwd() # Chemin d'accès à nos données"
   ]
  },
  {
   "cell_type": "code",
   "execution_count": 10,
   "metadata": {},
   "outputs": [],
   "source": [
    "path=\"C:\\\\Users\\\\sarah\\\\Desktop\\\\Cours\\\\Big_Data_Python\\\\Project\" #Le chemin d'accès aux données"
   ]
  },
  {
   "cell_type": "code",
   "execution_count": 11,
   "metadata": {},
   "outputs": [],
   "source": [
    "# On prend file to file parcequ'il y a déjà les labels\n",
    "dtr = pdtfr.tfrecords_to_pandas(path+\"\\\\train\\\\00-192x192-798.tfrec\")\n",
    "dtr = dtr.append(pdtfr.tfrecords_to_pandas(path+\"\\\\train\\\\01-192x192-798.tfrec\"), ignore_index=True)\n",
    "dtr = dtr.append(pdtfr.tfrecords_to_pandas(path+\"\\\\train\\\\02-192x192-798.tfrec\"), ignore_index=True)\n",
    "dtr = dtr.append(pdtfr.tfrecords_to_pandas(path+\"\\\\train\\\\03-192x192-798.tfrec\"), ignore_index=True)\n",
    "dtr = dtr.append(pdtfr.tfrecords_to_pandas(path+\"\\\\train\\\\04-192x192-798.tfrec\"), ignore_index=True)\n",
    "dtr = dtr.append(pdtfr.tfrecords_to_pandas(path+\"\\\\train\\\\05-192x192-798.tfrec\"), ignore_index=True)\n",
    "dtr = dtr.append(pdtfr.tfrecords_to_pandas(path+\"\\\\train\\\\06-192x192-798.tfrec\"), ignore_index=True)\n",
    "dtr = dtr.append(pdtfr.tfrecords_to_pandas(path+\"\\\\train\\\\07-192x192-798.tfrec\"), ignore_index=True)\n",
    "dtr = dtr.append(pdtfr.tfrecords_to_pandas(path+\"\\\\train\\\\08-192x192-798.tfrec\"), ignore_index=True)\n",
    "dtr = dtr.append(pdtfr.tfrecords_to_pandas(path+\"\\\\train\\\\09-192x192-798.tfrec\"), ignore_index=True)\n",
    "dtr = dtr.append(pdtfr.tfrecords_to_pandas(path+\"\\\\train\\\\10-192x192-798.tfrec\"), ignore_index=True)\n",
    "dtr = dtr.append(pdtfr.tfrecords_to_pandas(path+\"\\\\train\\\\11-192x192-798.tfrec\"), ignore_index=True)\n",
    "dtr = dtr.append(pdtfr.tfrecords_to_pandas(path+\"\\\\train\\\\12-192x192-798.tfrec\"), ignore_index=True)\n",
    "dtr = dtr.append(pdtfr.tfrecords_to_pandas(path+\"\\\\train\\\\13-192x192-798.tfrec\"), ignore_index=True)\n",
    "dtr = dtr.append(pdtfr.tfrecords_to_pandas(path+\"\\\\train\\\\14-192x192-798.tfrec\"), ignore_index=True)\n",
    "dtr = dtr.append(pdtfr.tfrecords_to_pandas(path+\"\\\\train\\\\15-192x192-783.tfrec\"), ignore_index=True)\n"
   ]
  },
  {
   "cell_type": "code",
   "execution_count": 10,
   "metadata": {},
   "outputs": [
    {
     "data": {
      "text/plain": [
       "Index(['class', 'id', 'image'], dtype='object')"
      ]
     },
     "execution_count": 10,
     "metadata": {},
     "output_type": "execute_result"
    }
   ],
   "source": [
    "dtr.columns"
   ]
  },
  {
   "cell_type": "code",
   "execution_count": 10,
   "metadata": {},
   "outputs": [
    {
     "data": {
      "text/html": [
       "<div>\n",
       "<style scoped>\n",
       "    .dataframe tbody tr th:only-of-type {\n",
       "        vertical-align: middle;\n",
       "    }\n",
       "\n",
       "    .dataframe tbody tr th {\n",
       "        vertical-align: top;\n",
       "    }\n",
       "\n",
       "    .dataframe thead th {\n",
       "        text-align: right;\n",
       "    }\n",
       "</style>\n",
       "<table border=\"1\" class=\"dataframe\">\n",
       "  <thead>\n",
       "    <tr style=\"text-align: right;\">\n",
       "      <th></th>\n",
       "      <th>class</th>\n",
       "      <th>id</th>\n",
       "      <th>image</th>\n",
       "    </tr>\n",
       "  </thead>\n",
       "  <tbody>\n",
       "    <tr>\n",
       "      <th>0</th>\n",
       "      <td>57</td>\n",
       "      <td>338ab7bac</td>\n",
       "      <td>b'\\xff\\xd8\\xff\\xe0\\x00\\x10JFIF\\x00\\x01\\x01\\x01...</td>\n",
       "    </tr>\n",
       "    <tr>\n",
       "      <th>1</th>\n",
       "      <td>10</td>\n",
       "      <td>90ffc5d69</td>\n",
       "      <td>b'\\xff\\xd8\\xff\\xe0\\x00\\x10JFIF\\x00\\x01\\x01\\x01...</td>\n",
       "    </tr>\n",
       "    <tr>\n",
       "      <th>2</th>\n",
       "      <td>82</td>\n",
       "      <td>76feda65b</td>\n",
       "      <td>b'\\xff\\xd8\\xff\\xe0\\x00\\x10JFIF\\x00\\x01\\x01\\x01...</td>\n",
       "    </tr>\n",
       "    <tr>\n",
       "      <th>3</th>\n",
       "      <td>102</td>\n",
       "      <td>416755ace</td>\n",
       "      <td>b'\\xff\\xd8\\xff\\xe0\\x00\\x10JFIF\\x00\\x01\\x01\\x01...</td>\n",
       "    </tr>\n",
       "    <tr>\n",
       "      <th>4</th>\n",
       "      <td>94</td>\n",
       "      <td>4b067b390</td>\n",
       "      <td>b'\\xff\\xd8\\xff\\xe0\\x00\\x10JFIF\\x00\\x01\\x01\\x01...</td>\n",
       "    </tr>\n",
       "  </tbody>\n",
       "</table>\n",
       "</div>"
      ],
      "text/plain": [
       "  class         id                                              image\n",
       "0    57  338ab7bac  b'\\xff\\xd8\\xff\\xe0\\x00\\x10JFIF\\x00\\x01\\x01\\x01...\n",
       "1    10  90ffc5d69  b'\\xff\\xd8\\xff\\xe0\\x00\\x10JFIF\\x00\\x01\\x01\\x01...\n",
       "2    82  76feda65b  b'\\xff\\xd8\\xff\\xe0\\x00\\x10JFIF\\x00\\x01\\x01\\x01...\n",
       "3   102  416755ace  b'\\xff\\xd8\\xff\\xe0\\x00\\x10JFIF\\x00\\x01\\x01\\x01...\n",
       "4    94  4b067b390  b'\\xff\\xd8\\xff\\xe0\\x00\\x10JFIF\\x00\\x01\\x01\\x01..."
      ]
     },
     "execution_count": 10,
     "metadata": {},
     "output_type": "execute_result"
    }
   ],
   "source": [
    "dtr.head() #Les 5 premieres lignes"
   ]
  },
  {
   "cell_type": "code",
   "execution_count": 6,
   "metadata": {},
   "outputs": [
    {
     "data": {
      "text/plain": [
       "(12753, 3)"
      ]
     },
     "execution_count": 6,
     "metadata": {},
     "output_type": "execute_result"
    }
   ],
   "source": [
    "dtr.shape # on regarde les dimensions de notre dataframe"
   ]
  },
  {
   "cell_type": "markdown",
   "metadata": {},
   "source": [
    "Nous avons 12 753 observations et 3 colonnes ( variables : class,id,image)"
   ]
  },
  {
   "cell_type": "code",
   "execution_count": 13,
   "metadata": {},
   "outputs": [],
   "source": [
    "count = dtr.groupby('class').count() # On regarde le nombre d'image dans chaque classe "
   ]
  },
  {
   "cell_type": "markdown",
   "metadata": {},
   "source": [
    "Nous trouvons qu'il existe 104 classes de fleurs. Par exemple, dans la classe 0, nous avons 272 fleurs. Ensuite, nous allons enlever les petits effectifs des clsses de fleurs car ne permettra assez d'entrainement. De plus, la mémoire vive ne permet pas de travauller avec une grosse base de données\n"
   ]
  },
  {
   "cell_type": "code",
   "execution_count": 14,
   "metadata": {},
   "outputs": [],
   "source": [
    "l=list(count[\"image\"])"
   ]
  },
  {
   "cell_type": "code",
   "execution_count": 15,
   "metadata": {},
   "outputs": [
    {
     "data": {
      "text/plain": [
       "88.0"
      ]
     },
     "execution_count": 15,
     "metadata": {},
     "output_type": "execute_result"
    }
   ],
   "source": [
    "l_md=np.median(l)\n",
    "l_md"
   ]
  },
  {
   "cell_type": "markdown",
   "metadata": {},
   "source": [
    "Nous voulions retirer toutes les classes ayant un effectif inférieure à la médiane mais nous avons ensuite décidé de garder les groupes avec un effectif supérieur à 190 pour la gestion des données."
   ]
  },
  {
   "cell_type": "code",
   "execution_count": 16,
   "metadata": {},
   "outputs": [],
   "source": [
    "class_kept=list()\n",
    "for i in range(len(count)):\n",
    "    if l[i]>190:\n",
    "        class_kept.append(i)\n",
    "#class_kept"
   ]
  },
  {
   "cell_type": "code",
   "execution_count": 17,
   "metadata": {},
   "outputs": [],
   "source": [
    "dtr_clean=dtr[dtr[\"class\"].isin(class_kept)]"
   ]
  },
  {
   "cell_type": "code",
   "execution_count": 18,
   "metadata": {
    "collapsed": true
   },
   "outputs": [
    {
     "data": {
      "text/html": [
       "<div>\n",
       "<style scoped>\n",
       "    .dataframe tbody tr th:only-of-type {\n",
       "        vertical-align: middle;\n",
       "    }\n",
       "\n",
       "    .dataframe tbody tr th {\n",
       "        vertical-align: top;\n",
       "    }\n",
       "\n",
       "    .dataframe thead th {\n",
       "        text-align: right;\n",
       "    }\n",
       "</style>\n",
       "<table border=\"1\" class=\"dataframe\">\n",
       "  <thead>\n",
       "    <tr style=\"text-align: right;\">\n",
       "      <th></th>\n",
       "      <th>id</th>\n",
       "      <th>image</th>\n",
       "    </tr>\n",
       "    <tr>\n",
       "      <th>class</th>\n",
       "      <th></th>\n",
       "      <th></th>\n",
       "    </tr>\n",
       "  </thead>\n",
       "  <tbody>\n",
       "    <tr>\n",
       "      <th>0</th>\n",
       "      <td>272</td>\n",
       "      <td>272</td>\n",
       "    </tr>\n",
       "    <tr>\n",
       "      <th>4</th>\n",
       "      <td>703</td>\n",
       "      <td>703</td>\n",
       "    </tr>\n",
       "    <tr>\n",
       "      <th>13</th>\n",
       "      <td>263</td>\n",
       "      <td>263</td>\n",
       "    </tr>\n",
       "    <tr>\n",
       "      <th>14</th>\n",
       "      <td>227</td>\n",
       "      <td>227</td>\n",
       "    </tr>\n",
       "    <tr>\n",
       "      <th>47</th>\n",
       "      <td>261</td>\n",
       "      <td>261</td>\n",
       "    </tr>\n",
       "    <tr>\n",
       "      <th>48</th>\n",
       "      <td>422</td>\n",
       "      <td>422</td>\n",
       "    </tr>\n",
       "    <tr>\n",
       "      <th>49</th>\n",
       "      <td>563</td>\n",
       "      <td>563</td>\n",
       "    </tr>\n",
       "    <tr>\n",
       "      <th>50</th>\n",
       "      <td>201</td>\n",
       "      <td>201</td>\n",
       "    </tr>\n",
       "    <tr>\n",
       "      <th>53</th>\n",
       "      <td>460</td>\n",
       "      <td>460</td>\n",
       "    </tr>\n",
       "    <tr>\n",
       "      <th>67</th>\n",
       "      <td>782</td>\n",
       "      <td>782</td>\n",
       "    </tr>\n",
       "    <tr>\n",
       "      <th>68</th>\n",
       "      <td>260</td>\n",
       "      <td>260</td>\n",
       "    </tr>\n",
       "    <tr>\n",
       "      <th>73</th>\n",
       "      <td>460</td>\n",
       "      <td>460</td>\n",
       "    </tr>\n",
       "    <tr>\n",
       "      <th>75</th>\n",
       "      <td>306</td>\n",
       "      <td>306</td>\n",
       "    </tr>\n",
       "    <tr>\n",
       "      <th>102</th>\n",
       "      <td>390</td>\n",
       "      <td>390</td>\n",
       "    </tr>\n",
       "    <tr>\n",
       "      <th>103</th>\n",
       "      <td>743</td>\n",
       "      <td>743</td>\n",
       "    </tr>\n",
       "  </tbody>\n",
       "</table>\n",
       "</div>"
      ],
      "text/plain": [
       "        id  image\n",
       "class            \n",
       "0      272    272\n",
       "4      703    703\n",
       "13     263    263\n",
       "14     227    227\n",
       "47     261    261\n",
       "48     422    422\n",
       "49     563    563\n",
       "50     201    201\n",
       "53     460    460\n",
       "67     782    782\n",
       "68     260    260\n",
       "73     460    460\n",
       "75     306    306\n",
       "102    390    390\n",
       "103    743    743"
      ]
     },
     "execution_count": 18,
     "metadata": {},
     "output_type": "execute_result"
    }
   ],
   "source": [
    "dtr_clean.groupby('class').count() # Nous nous retrouvons avec 15 classes."
   ]
  },
  {
   "cell_type": "code",
   "execution_count": 19,
   "metadata": {},
   "outputs": [],
   "source": [
    "dtr_clean1=dtr[dtr[\"class\"].isin(class_kept)]"
   ]
  },
  {
   "cell_type": "code",
   "execution_count": 20,
   "metadata": {},
   "outputs": [],
   "source": [
    "dtr_std=dtr[dtr[\"class\"].isin(class_kept)]"
   ]
  },
  {
   "cell_type": "code",
   "execution_count": 21,
   "metadata": {},
   "outputs": [
    {
     "data": {
      "text/plain": [
       "(6313,)"
      ]
     },
     "execution_count": 21,
     "metadata": {},
     "output_type": "execute_result"
    }
   ],
   "source": [
    "#dtr_clean1.iloc[:10] # 10 premieres lignes\n",
    "dtr_std['image'].shape"
   ]
  },
  {
   "cell_type": "markdown",
   "metadata": {},
   "source": [
    "Les SVM ne prenant pas en compte les images, il est nécessaire de passer par une fonction transformant nos données en tableau contenant les données de pixels en 1 dimension."
   ]
  },
  {
   "cell_type": "code",
   "execution_count": 22,
   "metadata": {},
   "outputs": [],
   "source": [
    "def Bytes_array(data_tfrec): # Convertis bytes en tableau de données\n",
    "    image = io.BytesIO(data_tfrec) # Decode le string\n",
    "    image = Image.open(image) #ouvre l'objet retrouvé dans la ligne precedente\n",
    "    image = np.asarray(image) #transforme en tableau numpy\n",
    "    image = image.flatten('F') #une image est en 2D, créer une liste 1D\n",
    "    return image #La fonction nous retourne l'image pixelisée en tableau (on a les valeurs de chaque pixel) "
   ]
  },
  {
   "cell_type": "markdown",
   "metadata": {},
   "source": [
    "La fonction Bytes_image nous permet de changer les \"tfrecords\" en image"
   ]
  },
  {
   "cell_type": "code",
   "execution_count": 23,
   "metadata": {},
   "outputs": [],
   "source": [
    "def Bytes_image(data_tfrec):# convertis bytes en image\n",
    "    image = io.BytesIO(data_tfrec) # Decode le string\n",
    "    image = Image.open(image) #ouvre l'objet retrouvé dans la ligne precedente\n",
    "    return image"
   ]
  },
  {
   "cell_type": "markdown",
   "metadata": {},
   "source": [
    "La fonction résolution nous permettre ici de réduire la résolution de nos images à 50x50."
   ]
  },
  {
   "cell_type": "code",
   "execution_count": 24,
   "metadata": {},
   "outputs": [],
   "source": [
    "def Resolution(image): # réduire la resolution\n",
    "    basewidth = 50\n",
    "    size = image.size[0]\n",
    "    wpercent = (basewidth / int(size))\n",
    "    hsize = int((float(image.size[1]) * float(wpercent)))\n",
    "    image = image.resize((basewidth, hsize), Image.ANTIALIAS)\n",
    "    return image"
   ]
  },
  {
   "cell_type": "markdown",
   "metadata": {},
   "source": [
    "La fonction image_array nous permet de passer d'un objet\"image\" à un tableau contenant les données de pixels en 1 dimension."
   ]
  },
  {
   "cell_type": "code",
   "execution_count": 25,
   "metadata": {},
   "outputs": [],
   "source": [
    "def Image_array(image):\n",
    "    image = np.asarray(image) #transforme en tableau numpy\n",
    "    image = image.flatten('F')\n",
    "    return image\n"
   ]
  },
  {
   "cell_type": "markdown",
   "metadata": {},
   "source": [
    "La fonction standardisation va nous permettre de standardiser les valeurs des pixels de nos images. Cette fonction nous servira pour les réseaux de neurones ANN qui nécessite des données standardisées.\n",
    "Pour les SVM et CNN nous induiront des données normalisées."
   ]
  },
  {
   "cell_type": "code",
   "execution_count": 26,
   "metadata": {},
   "outputs": [],
   "source": [
    "def Standardisation(image):\n",
    "    image = (image - np.mean(image)) / np.std(image)\n",
    "    return image"
   ]
  },
  {
   "cell_type": "markdown",
   "metadata": {},
   "source": [
    "Dans le code ci-dessous on ajoute une colonne \"features\" à dtr_clean correspondant à chacune des valeurs des pixels des images et ces pixels sont normalisés. Attention les photos de bases sont en 192x192. Ce tableau sera utilisé pour tenter de faire les PCA."
   ]
  },
  {
   "cell_type": "code",
   "execution_count": 27,
   "metadata": {},
   "outputs": [
    {
     "name": "stderr",
     "output_type": "stream",
     "text": [
      "c:\\users\\sarah\\anaconda3\\envs\\ml_test2\\lib\\site-packages\\ipykernel_launcher.py:5: SettingWithCopyWarning: \n",
      "A value is trying to be set on a copy of a slice from a DataFrame.\n",
      "Try using .loc[row_indexer,col_indexer] = value instead\n",
      "\n",
      "See the caveats in the documentation: https://pandas.pydata.org/pandas-docs/stable/user_guide/indexing.html#returning-a-view-versus-a-copy\n",
      "  \"\"\"\n"
     ]
    }
   ],
   "source": [
    "#avoir une colonne en plus correspondant a chacune des valeurs des pixels et normalisé entre [0,1] \n",
    "list_array=list()\n",
    "for i in range(len(dtr_clean)):\n",
    "    list_array.append(Bytes_array(dtr_clean.iloc[i]['image'])/255)\n",
    "dtr_clean['features']=list_array"
   ]
  },
  {
   "cell_type": "markdown",
   "metadata": {},
   "source": [
    "Dans le code suivant on ajoute une colonne \"features\" à dtr_clean1 correspondant à chacune des valeurs des pixels des images et ces pixels sont normalisés. Les photos de bases sont en 50x50. Ce tableau sera utilisé pour toutes autres applications des SVM."
   ]
  },
  {
   "cell_type": "code",
   "execution_count": 24,
   "metadata": {
    "collapsed": true
   },
   "outputs": [
    {
     "name": "stderr",
     "output_type": "stream",
     "text": [
      "c:\\users\\sarah\\anaconda3\\envs\\ml_test2\\lib\\site-packages\\ipykernel_launcher.py:5: SettingWithCopyWarning: \n",
      "A value is trying to be set on a copy of a slice from a DataFrame.\n",
      "Try using .loc[row_indexer,col_indexer] = value instead\n",
      "\n",
      "See the caveats in the documentation: https://pandas.pydata.org/pandas-docs/stable/user_guide/indexing.html#returning-a-view-versus-a-copy\n",
      "  \"\"\"\n"
     ]
    }
   ],
   "source": [
    "#avec plus basse resolution et normalisé\n",
    "list_array=list()\n",
    "for i in range(len(dtr_clean1)):\n",
    "    list_array.append(Image_array(Resolution(Bytes_image(dtr_clean1.iloc[i]['image'])))/255)\n",
    "dtr_clean1[\"features\"]=list_array"
   ]
  },
  {
   "cell_type": "markdown",
   "metadata": {},
   "source": [
    "Dans les lignes suivantes on ajoute une colonne \"features\" à dtr_std correspondant à chacune des valeurs des pixels des images et ces pixels sont standardisés. Les photos de bases sont en 50x50. Ce tableau sera utilisé pour les ANN."
   ]
  },
  {
   "cell_type": "code",
   "execution_count": 83,
   "metadata": {},
   "outputs": [
    {
     "name": "stderr",
     "output_type": "stream",
     "text": [
      "c:\\users\\sarah\\anaconda3\\envs\\ml_test2\\lib\\site-packages\\ipykernel_launcher.py:5: SettingWithCopyWarning: \n",
      "A value is trying to be set on a copy of a slice from a DataFrame.\n",
      "Try using .loc[row_indexer,col_indexer] = value instead\n",
      "\n",
      "See the caveats in the documentation: https://pandas.pydata.org/pandas-docs/stable/user_guide/indexing.html#returning-a-view-versus-a-copy\n",
      "  \"\"\"\n"
     ]
    }
   ],
   "source": [
    "#Données avec basse résolution standardisé\n",
    "list_array=list()\n",
    "for i in range(len(dtr_std)):\n",
    "    list_array.append(Standardisation(Image_array(Resolution(Bytes_image(dtr_std.iloc[i]['image'])))))\n",
    "dtr_std[\"features\"]=list_array"
   ]
  },
  {
   "cell_type": "markdown",
   "metadata": {},
   "source": [
    "# SVM "
   ]
  },
  {
   "cell_type": "code",
   "execution_count": 28,
   "metadata": {},
   "outputs": [],
   "source": [
    "from sklearn.svm import SVC\n",
    "from sklearn import svm, metrics\n",
    "from sklearn.model_selection import train_test_split\n",
    "from sklearn.metrics import classification_report,confusion_matrix"
   ]
  },
  {
   "cell_type": "code",
   "execution_count": 95,
   "metadata": {},
   "outputs": [],
   "source": [
    "#X=tableau/matrices des features\n",
    "X=list(dtr_clean[\"features\"].values)\n",
    "#y label, vecteur,list des classes\n",
    "y=list(np.array(dtr_clean[\"class\"]))\n",
    "y\n",
    "#features train et test, labels train et test\n",
    "X_train, X_test, y_train, y_test = train_test_split(X, y, test_size=0.3, random_state=42)"
   ]
  },
  {
   "cell_type": "markdown",
   "metadata": {},
   "source": [
    "### PCA"
   ]
  },
  {
   "cell_type": "markdown",
   "metadata": {},
   "source": [
    "On va essayer effectuer une PCA pour diminuer la dimension de nos données"
   ]
  },
  {
   "cell_type": "code",
   "execution_count": 96,
   "metadata": {},
   "outputs": [],
   "source": [
    "from sklearn.decomposition import PCA "
   ]
  },
  {
   "cell_type": "code",
   "execution_count": 97,
   "metadata": {},
   "outputs": [],
   "source": [
    "pca = PCA(n_components = 200) # on essaye aussi avec 300 et 400 et on regarde la variance expliquée"
   ]
  },
  {
   "cell_type": "code",
   "execution_count": 98,
   "metadata": {},
   "outputs": [
    {
     "data": {
      "text/plain": [
       "PCA(n_components=200)"
      ]
     },
     "execution_count": 98,
     "metadata": {},
     "output_type": "execute_result"
    }
   ],
   "source": [
    "pca.fit(X_train)"
   ]
  },
  {
   "cell_type": "code",
   "execution_count": 99,
   "metadata": {},
   "outputs": [
    {
     "data": {
      "text/plain": [
       "0.7636422301265682"
      ]
     },
     "execution_count": 99,
     "metadata": {},
     "output_type": "execute_result"
    }
   ],
   "source": [
    "sum(pca.explained_variance_ratio_)"
   ]
  },
  {
   "cell_type": "code",
   "execution_count": 100,
   "metadata": {},
   "outputs": [],
   "source": [
    "X_train_reduced = pca.transform(X_train)"
   ]
  },
  {
   "cell_type": "code",
   "execution_count": 101,
   "metadata": {},
   "outputs": [],
   "source": [
    "X_test_reduced = pca.transform(X_test)"
   ]
  },
  {
   "cell_type": "markdown",
   "metadata": {},
   "source": [
    "#### Modéliser avec les SVM\n",
    "L'algorithme de svm offre un choix de fonctions de kernel pour effectuer son traitement.\n",
    "Fondamentalement, le mappage des données dans une dimension supérieure s'appelle le \"kernelling\". La fonction mathématique utilisée pour la transformation est connue sous le nom de fonction noyau et peut être de différents types tels que :\n",
    "\n",
    "    • Linear\n",
    "    • Polynomial\n",
    "    • Radial basis fonction (rbf)    \n",
    "    \n",
    "Chacune de ces fonctions a ses caractéristiques, ses avantages et ses inconvénients, et son équation, mais comme il est compliqué de savoir quelle fonction performe le mieux selon les données que l’on a, on essaye les fonctions à tour de rôle et on compare les résultats. La fonction par défaut est \"rbf\".\n"
   ]
  },
  {
   "cell_type": "code",
   "execution_count": null,
   "metadata": {},
   "outputs": [],
   "source": [
    "### Linear svm avec PCA"
   ]
  },
  {
   "cell_type": "code",
   "execution_count": 102,
   "metadata": {},
   "outputs": [],
   "source": [
    "lin_svm = svm.SVC(kernel='linear',C=1)"
   ]
  },
  {
   "cell_type": "code",
   "execution_count": 103,
   "metadata": {},
   "outputs": [
    {
     "data": {
      "text/plain": [
       "SVC(C=1, kernel='linear')"
      ]
     },
     "execution_count": 103,
     "metadata": {},
     "output_type": "execute_result"
    }
   ],
   "source": [
    "lin_svm.fit(X_train_reduced, y_train)"
   ]
  },
  {
   "cell_type": "code",
   "execution_count": 105,
   "metadata": {},
   "outputs": [],
   "source": [
    "#  outputs :\n",
    "y_pred=lin_svm.predict(X_test_reduced)\n",
    "#y_pred"
   ]
  },
  {
   "cell_type": "code",
   "execution_count": 106,
   "metadata": {
    "collapsed": true
   },
   "outputs": [
    {
     "name": "stdout",
     "output_type": "stream",
     "text": [
      "              precision    recall  f1-score   support\n",
      "\n",
      "           0       0.17      0.24      0.20        71\n",
      "           4       0.27      0.38      0.32       211\n",
      "          13       0.15      0.18      0.17        83\n",
      "          14       0.27      0.33      0.30        78\n",
      "          47       0.26      0.30      0.28        81\n",
      "          48       0.28      0.24      0.26       130\n",
      "          49       0.28      0.23      0.25       172\n",
      "          50       0.10      0.18      0.13        44\n",
      "          53       0.29      0.33      0.31       123\n",
      "          67       0.40      0.33      0.36       248\n",
      "          68       0.25      0.15      0.19        86\n",
      "          73       0.35      0.29      0.32       136\n",
      "          75       0.23      0.22      0.23        90\n",
      "         102       0.26      0.18      0.21       118\n",
      "         103       0.29      0.27      0.28       223\n",
      "\n",
      "    accuracy                           0.27      1894\n",
      "   macro avg       0.26      0.26      0.25      1894\n",
      "weighted avg       0.28      0.27      0.27      1894\n",
      "\n"
     ]
    }
   ],
   "source": [
    "#Résultat\n",
    "print(classification_report(y_test,y_pred))"
   ]
  },
  {
   "cell_type": "code",
   "execution_count": 107,
   "metadata": {},
   "outputs": [
    {
     "data": {
      "text/plain": [
       "0.2729672650475185"
      ]
     },
     "execution_count": 107,
     "metadata": {},
     "output_type": "execute_result"
    }
   ],
   "source": [
    "sucess=0\n",
    "for i in range(len(y_pred)):\n",
    "    if y_pred[i]==y_test[i]:\n",
    "        sucess +=1\n",
    "sucess/len(y_pred)  #pourcentage de bonne pred"
   ]
  },
  {
   "cell_type": "code",
   "execution_count": null,
   "metadata": {},
   "outputs": [],
   "source": [
    "print(confusion_matrix(y_test, y_pred))"
   ]
  },
  {
   "cell_type": "markdown",
   "metadata": {},
   "source": [
    "## Linear SVMs avec résolution plus basse"
   ]
  },
  {
   "cell_type": "markdown",
   "metadata": {},
   "source": [
    "Le PCA mettant beaucoup trop de temps à l'entrainement, et le temps d'exécution du modèle étant très long, nous allons utiliser les données redimensionnées."
   ]
  },
  {
   "cell_type": "code",
   "execution_count": null,
   "metadata": {},
   "outputs": [],
   "source": [
    "#X=tableau/matrices des features\n",
    "X=list(dtr_clean1[\"features\"].values)\n",
    "#y label, vecteur,list des classes\n",
    "y=list(np.array(dtr_clean1[\"class\"]))\n",
    "y\n",
    "#features train et test, labels train et test\n",
    "X_train, X_test, y_train, y_test = train_test_split(X, y, test_size=0.3, random_state=42)"
   ]
  },
  {
   "cell_type": "code",
   "execution_count": 60,
   "metadata": {},
   "outputs": [],
   "source": [
    "lin_svm1e3 = svm.SVC(kernel='linear',C=1e3)\n",
    "#High C values: small number of support vectors\n",
    "\n",
    "lin_svm1 = svm.SVC(kernel='linear',C=1)\n",
    "#Low C values: high number of support vectors"
   ]
  },
  {
   "cell_type": "markdown",
   "metadata": {},
   "source": [
    "C est la pénalité qu'on veut imposer sur les points incorrectement placés dans la classification.\n",
    "\n",
    "C'est le cout qu'on va donné aux points mal placés, la pénalité, aux points incorrects.\n",
    "\n",
    "C = 2 par exemple, implique quon donne 2 unité de pénalité à ces points mal placés.\n"
   ]
  },
  {
   "cell_type": "markdown",
   "metadata": {},
   "source": [
    "##### Pour C=1e3"
   ]
  },
  {
   "cell_type": "code",
   "execution_count": 61,
   "metadata": {},
   "outputs": [
    {
     "data": {
      "text/plain": [
       "SVC(C=1000.0, kernel='linear')"
      ]
     },
     "execution_count": 61,
     "metadata": {},
     "output_type": "execute_result"
    }
   ],
   "source": [
    "lin_svm1e3.fit(X_train, y_train)"
   ]
  },
  {
   "cell_type": "code",
   "execution_count": 62,
   "metadata": {},
   "outputs": [],
   "source": [
    "#  outputs :\n",
    "y_pred=lin_svm1e3.predict(X_test)\n",
    "#y_pred"
   ]
  },
  {
   "cell_type": "code",
   "execution_count": 27,
   "metadata": {
    "collapsed": true
   },
   "outputs": [
    {
     "name": "stdout",
     "output_type": "stream",
     "text": [
      "              precision    recall  f1-score   support\n",
      "\n",
      "           0       0.16      0.24      0.19        76\n",
      "           4       0.34      0.39      0.37       213\n",
      "          13       0.10      0.12      0.11        83\n",
      "          14       0.24      0.27      0.26        74\n",
      "          45       0.27      0.45      0.34        38\n",
      "          47       0.21      0.34      0.26        71\n",
      "          48       0.19      0.21      0.20       129\n",
      "          49       0.21      0.33      0.25       166\n",
      "          50       0.19      0.27      0.23        62\n",
      "          53       0.46      0.36      0.40       133\n",
      "          67       0.38      0.26      0.30       239\n",
      "          68       0.19      0.14      0.16        76\n",
      "          72       0.16      0.11      0.13        54\n",
      "          73       0.37      0.39      0.38       135\n",
      "          75       0.22      0.19      0.20        88\n",
      "          80       0.26      0.12      0.16        58\n",
      "         102       0.37      0.18      0.24       127\n",
      "         103       0.32      0.22      0.26       220\n",
      "\n",
      "    accuracy                           0.27      2042\n",
      "   macro avg       0.26      0.26      0.25      2042\n",
      "weighted avg       0.29      0.27      0.27      2042\n",
      "\n"
     ]
    }
   ],
   "source": [
    "#Résultat\n",
    "print(classification_report(y_test,y_pred))"
   ]
  },
  {
   "cell_type": "code",
   "execution_count": 63,
   "metadata": {},
   "outputs": [
    {
     "data": {
      "text/plain": [
       "0.26582278481012656"
      ]
     },
     "execution_count": 63,
     "metadata": {},
     "output_type": "execute_result"
    }
   ],
   "source": [
    "sucess=0\n",
    "for i in range(len(y_pred)):\n",
    "    if y_pred[i]==y_test[i]:\n",
    "        sucess +=1\n",
    "sucess/len(y_pred)  #pourcentage de bonne pred"
   ]
  },
  {
   "cell_type": "code",
   "execution_count": 38,
   "metadata": {
    "collapsed": true
   },
   "outputs": [
    {
     "name": "stdout",
     "output_type": "stream",
     "text": [
      "[[10 16  3  0  0  4  4  1  8  0  0  1  0  5]\n",
      " [ 6 49 11  3  5  3  7  1 18  6  0 10  2  9]\n",
      " [ 0  6 12  0  0  0 12  2  7  0  3  3  0  3]\n",
      " [ 0  5  1 10 14  2  9  0  1  1  0  0  0  0]\n",
      " [ 0  7  0  7 25  1  9  3  2  1  1  0  1  0]\n",
      " [10  8  3  2  1 20 17  6  5  5  4  2  3  6]\n",
      " [ 3 18  2  4 16 14 30 11  7  4  1  0  1  5]\n",
      " [ 0  1  8  2  2  3 16 44  1  1  4  0  2  4]\n",
      " [ 3 43 11  3  2  8 17  2 41  0  3 15  2  5]\n",
      " [13  8  4  1  3  7  5  2  3  5  1  1  0  3]\n",
      " [ 4  2  7  1  1  9 14  3  2  2 41  0 14  1]\n",
      " [ 2 15  4  2  0  4  5  1 14  1  1 16  0  4]\n",
      " [ 2  2  1  2  3  6  6  9  3  0 11  1  9  3]\n",
      " [16 21  9  4  7  7 20  2 16  2  7  5  5 37]]\n"
     ]
    }
   ],
   "source": [
    "print(confusion_matrix(y_test, y_pred))"
   ]
  },
  {
   "cell_type": "markdown",
   "metadata": {},
   "source": [
    "#### Pour C=1e-3 "
   ]
  },
  {
   "cell_type": "code",
   "execution_count": 30,
   "metadata": {},
   "outputs": [
    {
     "data": {
      "text/plain": [
       "SVC(C=1, kernel='linear')"
      ]
     },
     "execution_count": 30,
     "metadata": {},
     "output_type": "execute_result"
    }
   ],
   "source": [
    "lin_svm1.fit(X_train, y_train)"
   ]
  },
  {
   "cell_type": "code",
   "execution_count": 31,
   "metadata": {},
   "outputs": [],
   "source": [
    "#  outputs :\n",
    "y_pred=lin_svm1.predict(X_test)\n",
    "#y_pred"
   ]
  },
  {
   "cell_type": "code",
   "execution_count": 32,
   "metadata": {
    "collapsed": true
   },
   "outputs": [
    {
     "name": "stdout",
     "output_type": "stream",
     "text": [
      "              precision    recall  f1-score   support\n",
      "\n",
      "           0       0.16      0.24      0.19        76\n",
      "           4       0.33      0.38      0.36       213\n",
      "          13       0.10      0.12      0.11        83\n",
      "          14       0.24      0.27      0.26        74\n",
      "          45       0.27      0.42      0.33        38\n",
      "          47       0.21      0.34      0.26        71\n",
      "          48       0.19      0.21      0.20       129\n",
      "          49       0.22      0.33      0.26       166\n",
      "          50       0.20      0.27      0.23        62\n",
      "          53       0.47      0.38      0.42       133\n",
      "          67       0.38      0.26      0.31       239\n",
      "          68       0.20      0.16      0.18        76\n",
      "          72       0.17      0.11      0.13        54\n",
      "          73       0.37      0.39      0.38       135\n",
      "          75       0.22      0.19      0.20        88\n",
      "          80       0.23      0.10      0.14        58\n",
      "         102       0.36      0.19      0.25       127\n",
      "         103       0.32      0.24      0.27       220\n",
      "\n",
      "    accuracy                           0.27      2042\n",
      "   macro avg       0.26      0.26      0.25      2042\n",
      "weighted avg       0.29      0.27      0.27      2042\n",
      "\n"
     ]
    }
   ],
   "source": [
    "#Résultat\n",
    "print(classification_report(y_test,y_pred))"
   ]
  },
  {
   "cell_type": "code",
   "execution_count": 33,
   "metadata": {},
   "outputs": [
    {
     "data": {
      "text/plain": [
       "0.2693437806072478"
      ]
     },
     "execution_count": 33,
     "metadata": {},
     "output_type": "execute_result"
    }
   ],
   "source": [
    "sucess=0\n",
    "for i in range(len(y_pred)):\n",
    "    if y_pred[i]==y_test[i]:\n",
    "        sucess +=1\n",
    "sucess/len(y_pred)  #pourcentage de bonne pred"
   ]
  },
  {
   "cell_type": "code",
   "execution_count": 34,
   "metadata": {
    "collapsed": true
   },
   "outputs": [
    {
     "name": "stdout",
     "output_type": "stream",
     "text": [
      "[[18  9  2  1  0  1  3  6  3  1  7  2  2  4  2  0  1 14]\n",
      " [ 6 82 11 10  0  6 10 19  3  0 31  9  1  2  8  0  1 14]\n",
      " [ 0 18 10  1  0  4  8 18  6  2  6  0  0  1  3  0  1  5]\n",
      " [ 0  7  0 20  0 23  1  7  0  4  3  2  0  1  0  1  0  5]\n",
      " [ 0  1  0  1 16  2  1  3  1  6  0  0  0  5  0  0  0  2]\n",
      " [ 1  6  0 14  3 24  1 10  0  1  2  2  0  2  1  1  2  1]\n",
      " [ 6  2  6  3  3  2 27 23 10  9  3  6  7  2  1  6  5  8]\n",
      " [ 9 10 11  7 10 21 12 54  3 11  3  1  0  5  1  1  4  3]\n",
      " [ 6  2  4  0  3  0  6  3 17  0  1  0  1 14  3  0  1  1]\n",
      " [ 0  0  8  7 12 13 11 16  0 51  3  0  0  2  0  0  4  6]\n",
      " [16 53 15  1  0  3  9 14  9  1 62  3  2  3 33  0  3 12]\n",
      " [13 11  5  4  0  0  6  7  1  2  3 12  1  0  0  0  3  8]\n",
      " [ 5  1  2  2  0  2  6  4  4  0  5  1  6  9  0  2  1  4]\n",
      " [ 3  2  2  1  3  0 11  8 10  9  5  2  7 52  0  5  8  7]\n",
      " [ 6 13  7  3  0  2  5  3  3  1  9  1  2  3 17  0  2 11]\n",
      " [ 2  0  0  0  1  4  6 12  2  0  1  4  2  9  0  6  4  5]\n",
      " [ 2  6  7  2  8  2 12 13  5  9  3  4  0 22  0  3 24  5]\n",
      " [19 24 13  5  1  8  9 30  9  2 15 10  5  5  9  1  3 52]]\n"
     ]
    }
   ],
   "source": [
    "print(confusion_matrix(y_test, y_pred))"
   ]
  },
  {
   "cell_type": "markdown",
   "metadata": {},
   "source": [
    "#### Classification non linéaire\n",
    "\n",
    "* Un noyau linéaire produira une limite de classification linéaire. Ne nécessite pas trop de données.\n",
    "* Un noyau polynomial, produira une limite de classification sous forme de polynomes; On choisit le degré.\n",
    "* La fonction 'rbf', la fonction de base radiale, c'est-à-dire le noyau gaussien, détermine la limite de classification en fonction de la distance de chaque vecteur de support. C'est la méthode la plus flexible, mais elle nécessite également le plus de données."
   ]
  },
  {
   "cell_type": "markdown",
   "metadata": {},
   "source": [
    "### Svm polynomial"
   ]
  },
  {
   "cell_type": "code",
   "execution_count": 53,
   "metadata": {},
   "outputs": [],
   "source": [
    "svm_poly = svm.SVC(kernel='poly', degree=2)"
   ]
  },
  {
   "cell_type": "code",
   "execution_count": 54,
   "metadata": {},
   "outputs": [
    {
     "data": {
      "text/plain": [
       "SVC(degree=2, kernel='poly')"
      ]
     },
     "execution_count": 54,
     "metadata": {},
     "output_type": "execute_result"
    }
   ],
   "source": [
    "svm_poly.fit(X_train, y_train)"
   ]
  },
  {
   "cell_type": "code",
   "execution_count": 55,
   "metadata": {},
   "outputs": [],
   "source": [
    "#  outputs :\n",
    "y_pred=svm_poly.predict(X_test)\n",
    "#y_pred"
   ]
  },
  {
   "cell_type": "code",
   "execution_count": 56,
   "metadata": {
    "collapsed": true
   },
   "outputs": [
    {
     "name": "stdout",
     "output_type": "stream",
     "text": [
      "              precision    recall  f1-score   support\n",
      "\n",
      "           0       0.25      0.22      0.23        76\n",
      "           4       0.33      0.50      0.40       213\n",
      "          13       0.19      0.17      0.18        83\n",
      "          14       0.29      0.16      0.21        74\n",
      "          45       0.43      0.53      0.48        38\n",
      "          47       0.22      0.31      0.26        71\n",
      "          48       0.29      0.21      0.24       129\n",
      "          49       0.26      0.33      0.29       166\n",
      "          50       0.41      0.26      0.32        62\n",
      "          53       0.53      0.52      0.53       133\n",
      "          67       0.45      0.46      0.45       239\n",
      "          68       0.24      0.12      0.16        76\n",
      "          72       0.32      0.19      0.24        54\n",
      "          73       0.40      0.42      0.41       135\n",
      "          75       0.40      0.19      0.26        88\n",
      "          80       0.48      0.17      0.25        58\n",
      "         102       0.45      0.24      0.31       127\n",
      "         103       0.27      0.41      0.33       220\n",
      "\n",
      "    accuracy                           0.34      2042\n",
      "   macro avg       0.35      0.30      0.31      2042\n",
      "weighted avg       0.35      0.34      0.33      2042\n",
      "\n"
     ]
    }
   ],
   "source": [
    "#Résultat\n",
    "print(classification_report(y_test,y_pred))"
   ]
  },
  {
   "cell_type": "code",
   "execution_count": 57,
   "metadata": {},
   "outputs": [
    {
     "data": {
      "text/plain": [
       "0.3393731635651322"
      ]
     },
     "execution_count": 57,
     "metadata": {},
     "output_type": "execute_result"
    }
   ],
   "source": [
    "sucess=0\n",
    "for i in range(len(y_pred)):\n",
    "    if y_pred[i]==y_test[i]:\n",
    "        sucess +=1\n",
    "sucess/len(y_pred)  #pourcentage de bonne pred"
   ]
  },
  {
   "cell_type": "code",
   "execution_count": 96,
   "metadata": {
    "collapsed": true
   },
   "outputs": [
    {
     "name": "stdout",
     "output_type": "stream",
     "text": [
      "[[16  0  0]\n",
      " [ 0  3  0]\n",
      " [ 1  0  0]]\n"
     ]
    }
   ],
   "source": [
    "print(confusion_matrix(y_test, y_pred))"
   ]
  },
  {
   "cell_type": "markdown",
   "metadata": {},
   "source": [
    "### Svm gaussien"
   ]
  },
  {
   "cell_type": "code",
   "execution_count": 58,
   "metadata": {},
   "outputs": [],
   "source": [
    "'''\n",
    "Kernel coefficient for ‘rbd’, ‘poly’, et ‘sigmoid’.\n",
    "      Current defaut is ‘auto’ wich uses (1/n_features)\n",
    "      if ``gamma=’scale’``is passed then it uses 1/(n_features*X_var())\n",
    "      as value of gamma.\n",
    "'''\n",
    "\n",
    "svm_gaussien_auto = svm.SVC(kernel='rbf', C=1,gamma='auto') #auto\n",
    "svm_gaussien_scale = svm.SVC(kernel='rbf', C=1,gamma='scale')#scale"
   ]
  },
  {
   "cell_type": "markdown",
   "metadata": {},
   "source": [
    "A noter que gamma correspond à la distribution de la fonction gaussien utilisé pour la projection des données dans l'espace de dimension supérieure."
   ]
  },
  {
   "cell_type": "code",
   "execution_count": 67,
   "metadata": {},
   "outputs": [
    {
     "data": {
      "text/plain": [
       "SVC(C=1, gamma='auto')"
      ]
     },
     "execution_count": 67,
     "metadata": {},
     "output_type": "execute_result"
    }
   ],
   "source": [
    "svm_gaussien_auto.fit(X_train, y_train)"
   ]
  },
  {
   "cell_type": "code",
   "execution_count": 68,
   "metadata": {},
   "outputs": [],
   "source": [
    "#  outputs :\n",
    "y_pred=svm_gaussien_auto.predict(X_test)\n",
    "#y_pred"
   ]
  },
  {
   "cell_type": "code",
   "execution_count": 61,
   "metadata": {
    "collapsed": true
   },
   "outputs": [
    {
     "name": "stdout",
     "output_type": "stream",
     "text": [
      "              precision    recall  f1-score   support\n",
      "\n",
      "           0       0.00      0.00      0.00        76\n",
      "           4       0.33      0.48      0.39       213\n",
      "          13       0.00      0.00      0.00        83\n",
      "          14       0.00      0.00      0.00        74\n",
      "          45       0.00      0.00      0.00        38\n",
      "          47       0.67      0.08      0.15        71\n",
      "          48       0.27      0.26      0.26       129\n",
      "          49       0.25      0.31      0.27       166\n",
      "          50       0.00      0.00      0.00        62\n",
      "          53       0.45      0.51      0.48       133\n",
      "          67       0.28      0.53      0.37       239\n",
      "          68       0.00      0.00      0.00        76\n",
      "          72       0.00      0.00      0.00        54\n",
      "          73       0.38      0.38      0.38       135\n",
      "          75       0.00      0.00      0.00        88\n",
      "          80       0.00      0.00      0.00        58\n",
      "         102       0.41      0.09      0.14       127\n",
      "         103       0.17      0.50      0.26       220\n",
      "\n",
      "    accuracy                           0.27      2042\n",
      "   macro avg       0.18      0.17      0.15      2042\n",
      "weighted avg       0.23      0.27      0.22      2042\n",
      "\n"
     ]
    },
    {
     "name": "stderr",
     "output_type": "stream",
     "text": [
      "c:\\users\\sarah\\anaconda3\\envs\\ml_test2\\lib\\site-packages\\sklearn\\metrics\\_classification.py:1221: UndefinedMetricWarning: Precision and F-score are ill-defined and being set to 0.0 in labels with no predicted samples. Use `zero_division` parameter to control this behavior.\n",
      "  _warn_prf(average, modifier, msg_start, len(result))\n"
     ]
    }
   ],
   "source": [
    "#Résultat\n",
    "print(classification_report(y_test,y_pred))"
   ]
  },
  {
   "cell_type": "code",
   "execution_count": 69,
   "metadata": {},
   "outputs": [
    {
     "data": {
      "text/plain": [
       "0.27375122428991183"
      ]
     },
     "execution_count": 69,
     "metadata": {},
     "output_type": "execute_result"
    }
   ],
   "source": [
    "sucess=0\n",
    "for i in range(len(y_pred)):\n",
    "    if y_pred[i]==y_test[i]:\n",
    "        sucess +=1\n",
    "sucess/len(y_pred)  #pourcentage de bonne pred"
   ]
  },
  {
   "cell_type": "code",
   "execution_count": 63,
   "metadata": {
    "collapsed": true
   },
   "outputs": [
    {
     "name": "stdout",
     "output_type": "stream",
     "text": [
      "[[  0   6   0   0   0   0  14   1   0   2  20   0   0   1   0   0   0  32]\n",
      " [  0 103   0   0   0   0   1   3   0   0  54   0   0   0   0   0   0  52]\n",
      " [  0  19   0   0   0   0   0   1   0   2  38   0   0   2   0   0   1  20]\n",
      " [  0  28   0   0   0   1   0  15   0   4   0   0   0   0   0   0   0  26]\n",
      " [  0   0   0   0   0   0   0  17   0  10   2   0   0   3   0   0   0   6]\n",
      " [  0  20   0   0   0   6   0  23   0   1   1   0   0   1   0   0   1  18]\n",
      " [  0   5   0   0   0   0  33  13   0  11  20   0   0   2   0   0   0  45]\n",
      " [  0   9   0   0   0   2  11  51   0  17  20   0   0   2   0   0   2  52]\n",
      " [  0   1   0   0   0   0   4   2   0   0  11   0   0  27   0   0   1  16]\n",
      " [  0   7   0   0   0   0   3  23   0  68   4   0   0   0   0   0   2  26]\n",
      " [  0  47   0   0   0   0   3   3   0   1 127   0   0   1   0   0   3  54]\n",
      " [  0   6   0   0   0   0   5   0   0   0  18   0   0   0   0   0   0  47]\n",
      " [  0   2   0   0   0   0   8   6   0   1  10   0   0   7   0   0   1  19]\n",
      " [  0   1   0   0   0   0  13  19   0  11  13   0   0  51   0   0   4  23]\n",
      " [  0  17   0   0   0   0   1   0   0   1  46   0   0   5   0   0   0  18]\n",
      " [  0   1   0   0   0   0   7  18   0   0   1   0   0   4   0   0   0  27]\n",
      " [  0   1   0   0   0   0   8  11   0  21  19   0   0  21   0   0  11  35]\n",
      " [  0  38   0   0   0   0  12   2   0   1  51   0   0   6   0   0   1 109]]\n"
     ]
    }
   ],
   "source": [
    "print(confusion_matrix(y_test, y_pred))"
   ]
  },
  {
   "cell_type": "markdown",
   "metadata": {},
   "source": [
    "On regarde avec scale"
   ]
  },
  {
   "cell_type": "code",
   "execution_count": 64,
   "metadata": {},
   "outputs": [
    {
     "data": {
      "text/plain": [
       "SVC(C=1)"
      ]
     },
     "execution_count": 64,
     "metadata": {},
     "output_type": "execute_result"
    }
   ],
   "source": [
    "svm_gaussien_scale.fit(X_train, y_train)"
   ]
  },
  {
   "cell_type": "code",
   "execution_count": 65,
   "metadata": {},
   "outputs": [],
   "source": [
    "#  outputs :\n",
    "y_pred=svm_gaussien_scale.predict(X_test)\n",
    "#y_pred"
   ]
  },
  {
   "cell_type": "code",
   "execution_count": 107,
   "metadata": {
    "collapsed": true
   },
   "outputs": [
    {
     "name": "stdout",
     "output_type": "stream",
     "text": [
      "              precision    recall  f1-score   support\n",
      "\n",
      "           4       0.94      1.00      0.97        16\n",
      "          45       1.00      1.00      1.00         3\n",
      "          61       0.00      0.00      0.00         1\n",
      "\n",
      "    accuracy                           0.95        20\n",
      "   macro avg       0.65      0.67      0.66        20\n",
      "weighted avg       0.90      0.95      0.93        20\n",
      "\n"
     ]
    },
    {
     "name": "stderr",
     "output_type": "stream",
     "text": [
      "c:\\users\\sarah\\anaconda3\\envs\\ml_test2\\lib\\site-packages\\sklearn\\metrics\\_classification.py:1221: UndefinedMetricWarning: Precision and F-score are ill-defined and being set to 0.0 in labels with no predicted samples. Use `zero_division` parameter to control this behavior.\n",
      "  _warn_prf(average, modifier, msg_start, len(result))\n"
     ]
    }
   ],
   "source": [
    "#Résultat\n",
    "print(classification_report(y_test,y_pred))"
   ]
  },
  {
   "cell_type": "code",
   "execution_count": 66,
   "metadata": {},
   "outputs": [
    {
     "data": {
      "text/plain": [
       "0.3721841332027424"
      ]
     },
     "execution_count": 66,
     "metadata": {},
     "output_type": "execute_result"
    }
   ],
   "source": [
    "sucess=0\n",
    "for i in range(len(y_pred)):\n",
    "    if y_pred[i]==y_test[i]:\n",
    "        sucess +=1\n",
    "sucess/len(y_pred)  #pourcentage de bonne pred"
   ]
  },
  {
   "cell_type": "code",
   "execution_count": 109,
   "metadata": {
    "collapsed": true
   },
   "outputs": [
    {
     "name": "stdout",
     "output_type": "stream",
     "text": [
      "[[16  0  0]\n",
      " [ 0  3  0]\n",
      " [ 1  0  0]]\n"
     ]
    }
   ],
   "source": [
    "print(confusion_matrix(y_test, y_pred))"
   ]
  },
  {
   "cell_type": "markdown",
   "metadata": {},
   "source": [
    "### RBF optimisé : C et gamma"
   ]
  },
  {
   "cell_type": "markdown",
   "metadata": {},
   "source": [
    "Dans le code ci-dessous, nous recherchons les paramètres C et gamma tel que le SVM Gaussien soit optimisé, c'est-à-dire que le score de prédiction soit au plus haut et l'erreur quadratique minimisée."
   ]
  },
  {
   "cell_type": "code",
   "execution_count": null,
   "metadata": {
    "collapsed": true
   },
   "outputs": [
    {
     "name": "stderr",
     "output_type": "stream",
     "text": [
      "c:\\users\\sarah\\anaconda3\\envs\\ml_test2\\lib\\site-packages\\sklearn\\svm\\_base.py:249: ConvergenceWarning: Solver terminated early (max_iter=100).  Consider pre-processing your data with StandardScaler or MinMaxScaler.\n",
      "  % self.max_iter, ConvergenceWarning)\n",
      "c:\\users\\sarah\\anaconda3\\envs\\ml_test2\\lib\\site-packages\\sklearn\\svm\\_base.py:249: ConvergenceWarning: Solver terminated early (max_iter=100).  Consider pre-processing your data with StandardScaler or MinMaxScaler.\n",
      "  % self.max_iter, ConvergenceWarning)\n",
      "c:\\users\\sarah\\anaconda3\\envs\\ml_test2\\lib\\site-packages\\sklearn\\svm\\_base.py:249: ConvergenceWarning: Solver terminated early (max_iter=100).  Consider pre-processing your data with StandardScaler or MinMaxScaler.\n",
      "  % self.max_iter, ConvergenceWarning)\n",
      "c:\\users\\sarah\\anaconda3\\envs\\ml_test2\\lib\\site-packages\\sklearn\\svm\\_base.py:249: ConvergenceWarning: Solver terminated early (max_iter=100).  Consider pre-processing your data with StandardScaler or MinMaxScaler.\n",
      "  % self.max_iter, ConvergenceWarning)\n",
      "c:\\users\\sarah\\anaconda3\\envs\\ml_test2\\lib\\site-packages\\sklearn\\svm\\_base.py:249: ConvergenceWarning: Solver terminated early (max_iter=100).  Consider pre-processing your data with StandardScaler or MinMaxScaler.\n",
      "  % self.max_iter, ConvergenceWarning)\n",
      "c:\\users\\sarah\\anaconda3\\envs\\ml_test2\\lib\\site-packages\\sklearn\\svm\\_base.py:249: ConvergenceWarning: Solver terminated early (max_iter=100).  Consider pre-processing your data with StandardScaler or MinMaxScaler.\n",
      "  % self.max_iter, ConvergenceWarning)\n",
      "c:\\users\\sarah\\anaconda3\\envs\\ml_test2\\lib\\site-packages\\sklearn\\svm\\_base.py:249: ConvergenceWarning: Solver terminated early (max_iter=100).  Consider pre-processing your data with StandardScaler or MinMaxScaler.\n",
      "  % self.max_iter, ConvergenceWarning)\n",
      "c:\\users\\sarah\\anaconda3\\envs\\ml_test2\\lib\\site-packages\\sklearn\\svm\\_base.py:249: ConvergenceWarning: Solver terminated early (max_iter=100).  Consider pre-processing your data with StandardScaler or MinMaxScaler.\n",
      "  % self.max_iter, ConvergenceWarning)\n",
      "c:\\users\\sarah\\anaconda3\\envs\\ml_test2\\lib\\site-packages\\sklearn\\svm\\_base.py:249: ConvergenceWarning: Solver terminated early (max_iter=100).  Consider pre-processing your data with StandardScaler or MinMaxScaler.\n",
      "  % self.max_iter, ConvergenceWarning)\n",
      "c:\\users\\sarah\\anaconda3\\envs\\ml_test2\\lib\\site-packages\\sklearn\\svm\\_base.py:249: ConvergenceWarning: Solver terminated early (max_iter=100).  Consider pre-processing your data with StandardScaler or MinMaxScaler.\n",
      "  % self.max_iter, ConvergenceWarning)\n",
      "c:\\users\\sarah\\anaconda3\\envs\\ml_test2\\lib\\site-packages\\sklearn\\svm\\_base.py:249: ConvergenceWarning: Solver terminated early (max_iter=100).  Consider pre-processing your data with StandardScaler or MinMaxScaler.\n",
      "  % self.max_iter, ConvergenceWarning)\n",
      "c:\\users\\sarah\\anaconda3\\envs\\ml_test2\\lib\\site-packages\\sklearn\\svm\\_base.py:249: ConvergenceWarning: Solver terminated early (max_iter=100).  Consider pre-processing your data with StandardScaler or MinMaxScaler.\n",
      "  % self.max_iter, ConvergenceWarning)\n",
      "c:\\users\\sarah\\anaconda3\\envs\\ml_test2\\lib\\site-packages\\sklearn\\svm\\_base.py:249: ConvergenceWarning: Solver terminated early (max_iter=100).  Consider pre-processing your data with StandardScaler or MinMaxScaler.\n",
      "  % self.max_iter, ConvergenceWarning)\n",
      "c:\\users\\sarah\\anaconda3\\envs\\ml_test2\\lib\\site-packages\\sklearn\\svm\\_base.py:249: ConvergenceWarning: Solver terminated early (max_iter=100).  Consider pre-processing your data with StandardScaler or MinMaxScaler.\n",
      "  % self.max_iter, ConvergenceWarning)\n",
      "c:\\users\\sarah\\anaconda3\\envs\\ml_test2\\lib\\site-packages\\sklearn\\svm\\_base.py:249: ConvergenceWarning: Solver terminated early (max_iter=100).  Consider pre-processing your data with StandardScaler or MinMaxScaler.\n",
      "  % self.max_iter, ConvergenceWarning)\n",
      "c:\\users\\sarah\\anaconda3\\envs\\ml_test2\\lib\\site-packages\\sklearn\\svm\\_base.py:249: ConvergenceWarning: Solver terminated early (max_iter=100).  Consider pre-processing your data with StandardScaler or MinMaxScaler.\n",
      "  % self.max_iter, ConvergenceWarning)\n",
      "c:\\users\\sarah\\anaconda3\\envs\\ml_test2\\lib\\site-packages\\sklearn\\svm\\_base.py:249: ConvergenceWarning: Solver terminated early (max_iter=100).  Consider pre-processing your data with StandardScaler or MinMaxScaler.\n",
      "  % self.max_iter, ConvergenceWarning)\n",
      "c:\\users\\sarah\\anaconda3\\envs\\ml_test2\\lib\\site-packages\\sklearn\\svm\\_base.py:249: ConvergenceWarning: Solver terminated early (max_iter=100).  Consider pre-processing your data with StandardScaler or MinMaxScaler.\n",
      "  % self.max_iter, ConvergenceWarning)\n",
      "c:\\users\\sarah\\anaconda3\\envs\\ml_test2\\lib\\site-packages\\sklearn\\svm\\_base.py:249: ConvergenceWarning: Solver terminated early (max_iter=100).  Consider pre-processing your data with StandardScaler or MinMaxScaler.\n",
      "  % self.max_iter, ConvergenceWarning)\n"
     ]
    }
   ],
   "source": [
    "# Svm gaussien GridSearch \n",
    "\n",
    "import seaborn as sns\n",
    "\n",
    "grid = {\n",
    "    'C': [0.1, 1, 10, 100],\n",
    "    'gamma': [1, 0.1, 0.01, 0.001],\n",
    "    'kernel': ['rbf']}\n",
    "\n",
    "svm_gaussien = svm.SVC(max_iter = 100)\n",
    "grid_search = GridSearchCV(svm_gaussien, param_grid = grid, refit = True)\n",
    "svm_gaussien_fit = grid_search.fit(X_train, y_train)\n",
    "\n",
    "\n",
    "pred_gaussien = grid_search.predict(X_test)\n",
    "print(metrics.classification_report(pred_gaussien, y_test))\n"
   ]
  },
  {
   "cell_type": "code",
   "execution_count": null,
   "metadata": {},
   "outputs": [],
   "source": [
    "sucess=0\n",
    "for i in range(len(y_pred)):\n",
    "    if pred_gaussien[i]==y_test[i]:\n",
    "        sucess +=1\n",
    "sucess/len(pred_gaussien)  #pourcentage de bonne pred"
   ]
  },
  {
   "cell_type": "markdown",
   "metadata": {},
   "source": [
    "On va visualisé ci-dessous l'effet de certaines combinaisons de gamma et de C sur le score de prédiction moyen."
   ]
  },
  {
   "cell_type": "code",
   "execution_count": 30,
   "metadata": {
    "collapsed": true
   },
   "outputs": [
    {
     "data": {
      "image/png": "[encoded data removed]",
      "text/plain": [
       "<Figure size 432x288 with 1 Axes>"
      ]
     },
     "metadata": {
      "needs_background": "light"
     },
     "output_type": "display_data"
    }
   ],
   "source": [
    "# C, gamma, erreur graphique\n",
    "C = [0.1, 1, 10, 100]\n",
    "gamma = [1, 0.1, 0.01, 0.001]\n",
    "\n",
    "scores = [x[1] for x in grid_search.cv_results_]\n",
    "scores = np.array(scores).reshape(len(C), len(gamma))\n",
    "\n",
    "for ind, i in enumerate(C):\n",
    "    plt.plot(gamma, scores[ind], label='C: ' + str(i))\n",
    "plt.legend()\n",
    "plt.xlabel('Gamma')\n",
    "plt.ylabel('Mean score')\n",
    "plt.show()"
   ]
  },
  {
   "cell_type": "markdown",
   "metadata": {},
   "source": [
    "# Réseaux de neurones ANN (Artifical Neurone Network)\n",
    "On va créer notre réseau de neurone de part la fonction \"keras\" de la librairie tensorflow"
   ]
  },
  {
   "cell_type": "code",
   "execution_count": 29,
   "metadata": {},
   "outputs": [],
   "source": [
    "from tensorflow import keras"
   ]
  },
  {
   "cell_type": "code",
   "execution_count": 74,
   "metadata": {},
   "outputs": [],
   "source": [
    "#from sklearn.preprocessing import StandardScaler\n",
    "#from sklearn.model_selection import train_test_split déjà importé"
   ]
  },
  {
   "cell_type": "code",
   "execution_count": 84,
   "metadata": {},
   "outputs": [],
   "source": [
    "#Les données\n",
    "\n",
    "#X=tableau/matrices des features\n",
    "X=np.asarray(list(dtr_std[\"features\"].values))\n",
    "#y label, vecteur,list des classes\n",
    "y=np.asarray(list(np.array(dtr_std[\"class\"])))\n"
   ]
  },
  {
   "cell_type": "code",
   "execution_count": 85,
   "metadata": {},
   "outputs": [],
   "source": [
    "X_train, X_test, y_train, y_test = train_test_split(X, y, test_size=0.3, random_state=42)"
   ]
  },
  {
   "cell_type": "code",
   "execution_count": 86,
   "metadata": {},
   "outputs": [
    {
     "name": "stdout",
     "output_type": "stream",
     "text": [
      "(4419, 7500) (1894, 7500)\n"
     ]
    }
   ],
   "source": [
    "print(X_train.shape,X_test.shape)"
   ]
  },
  {
   "cell_type": "markdown",
   "metadata": {},
   "source": [
    "## Construction de réseaux de neurones"
   ]
  },
  {
   "cell_type": "code",
   "execution_count": 88,
   "metadata": {},
   "outputs": [],
   "source": [
    "#Création du réseau de neurones\n",
    "ann_model=tf.keras.models.Sequential()# Sequential est le modele de réseaux de neurones qu'on tente d'utiliser ici"
   ]
  },
  {
   "cell_type": "markdown",
   "metadata": {},
   "source": [
    "Ici nous ajoutons une couche intermédiaire(cachée)."
   ]
  },
  {
   "cell_type": "code",
   "execution_count": 89,
   "metadata": {},
   "outputs": [],
   "source": [
    "#On va maintenant ajouter une couche, la premiere couche cachée\n",
    "ann_model.add(tf.keras.layers.Dense(units=50,activation='relu',input_dim=7500)) # on importe la couche de type \"Dense\""
   ]
  },
  {
   "cell_type": "code",
   "execution_count": 81,
   "metadata": {},
   "outputs": [
    {
     "data": {
      "text/plain": [
       "(104, 2)"
      ]
     },
     "execution_count": 81,
     "metadata": {},
     "output_type": "execute_result"
    }
   ],
   "source": [
    "count.shape"
   ]
  },
  {
   "cell_type": "code",
   "execution_count": 90,
   "metadata": {},
   "outputs": [],
   "source": [
    "# On doit aussi rajouter la couche de sortie avec fonction d'activation \" sigmoid\"\n",
    "ann_model.add(tf.keras.layers.Dense(units=104,activation='sigmoid'))"
   ]
  },
  {
   "cell_type": "markdown",
   "metadata": {},
   "source": [
    "Maintenant nous devons compiler ces deux fonctions mais aussi rajouter la fonction \"Coût\" (la fonction 'loss') qui va nous permettre de \"mettre a jour \" les poids au fur et à mesure de l'apprentissage."
   ]
  },
  {
   "cell_type": "code",
   "execution_count": 91,
   "metadata": {},
   "outputs": [],
   "source": [
    "ann_model.compile(optimizer='sgd',loss=\"sparse_categorical_crossentropy\",metrics=['accuracy'])# optimizer = comment les poids vont être mis à jour\n",
    "#metrics= calculer la précision de notre model (cest a dire combien de fois on se trompe, on ne commet pas d'erreur)"
   ]
  },
  {
   "cell_type": "code",
   "execution_count": 99,
   "metadata": {
    "collapsed": true
   },
   "outputs": [
    {
     "name": "stdout",
     "output_type": "stream",
     "text": [
      "Model: \"sequential_2\"\n",
      "_________________________________________________________________\n",
      "Layer (type)                 Output Shape              Param #   \n",
      "=================================================================\n",
      "dense_5 (Dense)              (None, 8)                 60008     \n",
      "_________________________________________________________________\n",
      "dense_6 (Dense)              (None, 104)               936       \n",
      "=================================================================\n",
      "Total params: 60,944\n",
      "Trainable params: 60,944\n",
      "Non-trainable params: 0\n",
      "_________________________________________________________________\n"
     ]
    }
   ],
   "source": [
    "#petite synthèse de ce qu'on vient de construire \n",
    "ann_model.summary()"
   ]
  },
  {
   "cell_type": "markdown",
   "metadata": {},
   "source": [
    "Nous allons maintenant entraîner notre réseau de neurones. C'est-à-dire affecter les poids adéquats pour effectuer la prévision la plus correct possible.\n",
    "\n",
    "Nous devons spécifier 2 choses : \n",
    "\n",
    "Lorsque je mets à jour les poids est ce que je fais passer toute la base de données ou quelques éléments ?\n",
    "Si je veux faire passer toute la base de données je ne mets rien, si je veux faire passer quelques éléments je vais mettre ce que l'on appelle 'batch_size'. Ici nous si nous spécifions par exemple batch_size = 10, nous faisons passer 10 échantillons et mettons les poids à jour.\n",
    "\n",
    "A noter que le fait de faire passer toutes les données prend beaucoup de temps.\n",
    "\n",
    "epochs = combien de fois je fais passer la base de données pour entrainer mon modele. Nous pouvons mettre un grand nombre car avec epoch on essaye de calculer la metric et la fonction de perte ou bien la fonction de cout."
   ]
  },
  {
   "cell_type": "code",
   "execution_count": 92,
   "metadata": {
    "collapsed": true
   },
   "outputs": [
    {
     "name": "stdout",
     "output_type": "stream",
     "text": [
      "Train on 4419 samples\n",
      "Epoch 1/100\n",
      "4419/4419 [==============================] - 1s 300us/sample - loss: 4.0026 - accuracy: 0.0407\n",
      "Epoch 2/100\n",
      "4419/4419 [==============================] - 1s 147us/sample - loss: 3.3554 - accuracy: 0.0482\n",
      "Epoch 3/100\n",
      "4419/4419 [==============================] - 1s 164us/sample - loss: 3.0900 - accuracy: 0.0554\n",
      "Epoch 4/100\n",
      "4419/4419 [==============================] - 1s 156us/sample - loss: 3.0256 - accuracy: 0.0586\n",
      "Epoch 5/100\n",
      "4419/4419 [==============================] - 1s 149us/sample - loss: 2.9622 - accuracy: 0.0618\n",
      "Epoch 6/100\n",
      "4419/4419 [==============================] - 1s 148us/sample - loss: 2.8615 - accuracy: 0.0683\n",
      "Epoch 7/100\n",
      "4419/4419 [==============================] - 1s 152us/sample - loss: 2.8273 - accuracy: 0.0706\n",
      "Epoch 8/100\n",
      "4419/4419 [==============================] - 1s 150us/sample - loss: 2.7753 - accuracy: 0.0751\n",
      "Epoch 9/100\n",
      "4419/4419 [==============================] - 1s 150us/sample - loss: 2.7048 - accuracy: 0.0808\n",
      "Epoch 10/100\n",
      "4419/4419 [==============================] - 1s 150us/sample - loss: 2.6622 - accuracy: 0.0781\n",
      "Epoch 11/100\n",
      "4419/4419 [==============================] - 1s 158us/sample - loss: 2.6049 - accuracy: 0.0794\n",
      "Epoch 12/100\n",
      "4419/4419 [==============================] - 1s 163us/sample - loss: 2.5658 - accuracy: 0.0808\n",
      "Epoch 13/100\n",
      "4419/4419 [==============================] - 1s 152us/sample - loss: 2.5275 - accuracy: 0.0826\n",
      "Epoch 14/100\n",
      "4419/4419 [==============================] - 1s 151us/sample - loss: 2.4763 - accuracy: 0.0932\n",
      "Epoch 15/100\n",
      "4419/4419 [==============================] - 1s 154us/sample - loss: 2.3666 - accuracy: 0.1075\n",
      "Epoch 16/100\n",
      "4419/4419 [==============================] - 1s 153us/sample - loss: 2.3019 - accuracy: 0.1138\n",
      "Epoch 17/100\n",
      "4419/4419 [==============================] - 1s 150us/sample - loss: 2.2616 - accuracy: 0.1256\n",
      "Epoch 18/100\n",
      "4419/4419 [==============================] - 1s 155us/sample - loss: 2.1243 - accuracy: 0.1279\n",
      "Epoch 19/100\n",
      "4419/4419 [==============================] - 1s 173us/sample - loss: 2.0434 - accuracy: 0.1267\n",
      "Epoch 20/100\n",
      "4419/4419 [==============================] - 1s 154us/sample - loss: 1.9854 - accuracy: 0.1254\n",
      "Epoch 21/100\n",
      "4419/4419 [==============================] - 1s 167us/sample - loss: 1.9353 - accuracy: 0.1322\n",
      "Epoch 22/100\n",
      "4419/4419 [==============================] - 1s 153us/sample - loss: 1.8467 - accuracy: 0.1285\n",
      "Epoch 23/100\n",
      "4419/4419 [==============================] - 1s 150us/sample - loss: 1.7882 - accuracy: 0.1281\n",
      "Epoch 24/100\n",
      "4419/4419 [==============================] - 1s 158us/sample - loss: 1.7261 - accuracy: 0.1297\n",
      "Epoch 25/100\n",
      "4419/4419 [==============================] - 1s 160us/sample - loss: 1.6924 - accuracy: 0.1274\n",
      "Epoch 26/100\n",
      "4419/4419 [==============================] - 1s 152us/sample - loss: 1.6373 - accuracy: 0.1297\n",
      "Epoch 27/100\n",
      "4419/4419 [==============================] - 1s 157us/sample - loss: 1.5882 - accuracy: 0.1299\n",
      "Epoch 28/100\n",
      "4419/4419 [==============================] - 1s 162us/sample - loss: 1.5457 - accuracy: 0.1306\n",
      "Epoch 29/100\n",
      "4419/4419 [==============================] - 1s 153us/sample - loss: 1.4965 - accuracy: 0.1333\n",
      "Epoch 30/100\n",
      "4419/4419 [==============================] - 1s 158us/sample - loss: 1.4576 - accuracy: 0.1376\n",
      "Epoch 31/100\n",
      "4419/4419 [==============================] - 1s 147us/sample - loss: 1.4210 - accuracy: 0.1580\n",
      "Epoch 32/100\n",
      "4419/4419 [==============================] - 1s 142us/sample - loss: 1.3205 - accuracy: 0.3967\n",
      "Epoch 33/100\n",
      "4419/4419 [==============================] - 1s 143us/sample - loss: 1.1700 - accuracy: 0.5709\n",
      "Epoch 34/100\n",
      "4419/4419 [==============================] - 1s 144us/sample - loss: 1.0820 - accuracy: 0.6126\n",
      "Epoch 35/100\n",
      "4419/4419 [==============================] - 1s 151us/sample - loss: 0.9754 - accuracy: 0.6574\n",
      "Epoch 36/100\n",
      "4419/4419 [==============================] - 1s 145us/sample - loss: 0.8932 - accuracy: 0.6925\n",
      "Epoch 37/100\n",
      "4419/4419 [==============================] - 1s 145us/sample - loss: 0.8540 - accuracy: 0.7110\n",
      "Epoch 38/100\n",
      "4419/4419 [==============================] - 1s 144us/sample - loss: 0.7143 - accuracy: 0.7687\n",
      "Epoch 39/100\n",
      "4419/4419 [==============================] - 1s 137us/sample - loss: 0.6298 - accuracy: 0.8110\n",
      "Epoch 40/100\n",
      "4419/4419 [==============================] - 1s 142us/sample - loss: 0.5729 - accuracy: 0.8359\n",
      "Epoch 41/100\n",
      "4419/4419 [==============================] - 1s 142us/sample - loss: 0.4875 - accuracy: 0.8624\n",
      "Epoch 42/100\n",
      "4419/4419 [==============================] - 1s 141us/sample - loss: 0.4329 - accuracy: 0.8866\n",
      "Epoch 43/100\n",
      "4419/4419 [==============================] - 1s 140us/sample - loss: 0.3707 - accuracy: 0.9079\n",
      "Epoch 44/100\n",
      "4419/4419 [==============================] - 1s 143us/sample - loss: 0.3317 - accuracy: 0.9203\n",
      "Epoch 45/100\n",
      "4419/4419 [==============================] - 1s 140us/sample - loss: 0.3012 - accuracy: 0.9308\n",
      "Epoch 46/100\n",
      "4419/4419 [==============================] - 1s 140us/sample - loss: 0.2645 - accuracy: 0.9439\n",
      "Epoch 47/100\n",
      "4419/4419 [==============================] - 1s 153us/sample - loss: 0.2424 - accuracy: 0.9523\n",
      "Epoch 48/100\n",
      "4419/4419 [==============================] - 1s 144us/sample - loss: 0.2025 - accuracy: 0.9642\n",
      "Epoch 49/100\n",
      "4419/4419 [==============================] - 1s 142us/sample - loss: 0.1845 - accuracy: 0.9685\n",
      "Epoch 50/100\n",
      "4419/4419 [==============================] - 1s 147us/sample - loss: 0.1686 - accuracy: 0.9740\n",
      "Epoch 51/100\n",
      "4419/4419 [==============================] - 1s 142us/sample - loss: 0.1509 - accuracy: 0.9767\n",
      "Epoch 52/100\n",
      "4419/4419 [==============================] - 1s 140us/sample - loss: 0.1384 - accuracy: 0.9794\n",
      "Epoch 53/100\n",
      "4419/4419 [==============================] - 1s 142us/sample - loss: 0.1301 - accuracy: 0.9819\n",
      "Epoch 54/100\n",
      "4419/4419 [==============================] - 1s 143us/sample - loss: 0.1180 - accuracy: 0.9848\n",
      "Epoch 55/100\n",
      "4419/4419 [==============================] - 1s 140us/sample - loss: 0.1116 - accuracy: 0.9855\n",
      "Epoch 56/100\n",
      "4419/4419 [==============================] - 1s 152us/sample - loss: 0.1035 - accuracy: 0.9866\n",
      "Epoch 57/100\n",
      "4419/4419 [==============================] - 1s 180us/sample - loss: 0.0939 - accuracy: 0.9882\n",
      "Epoch 58/100\n",
      "4419/4419 [==============================] - 1s 142us/sample - loss: 0.0933 - accuracy: 0.9876\n",
      "Epoch 59/100\n",
      "4419/4419 [==============================] - 1s 173us/sample - loss: 0.0832 - accuracy: 0.9891\n",
      "Epoch 60/100\n",
      "4419/4419 [==============================] - 1s 141us/sample - loss: 0.0768 - accuracy: 0.9912\n",
      "Epoch 61/100\n",
      "4419/4419 [==============================] - 1s 135us/sample - loss: 0.0730 - accuracy: 0.9916\n",
      "Epoch 62/100\n",
      "4419/4419 [==============================] - 1s 143us/sample - loss: 0.0693 - accuracy: 0.9914\n",
      "Epoch 63/100\n",
      "4419/4419 [==============================] - 1s 145us/sample - loss: 0.0651 - accuracy: 0.9921\n",
      "Epoch 64/100\n",
      "4419/4419 [==============================] - 1s 141us/sample - loss: 0.0613 - accuracy: 0.9928\n",
      "Epoch 65/100\n",
      "4419/4419 [==============================] - 1s 141us/sample - loss: 0.0588 - accuracy: 0.9937\n",
      "Epoch 66/100\n",
      "4419/4419 [==============================] - 1s 167us/sample - loss: 0.0564 - accuracy: 0.9939\n",
      "Epoch 67/100\n",
      "4419/4419 [==============================] - 1s 149us/sample - loss: 0.0536 - accuracy: 0.9946\n",
      "Epoch 68/100\n",
      "4419/4419 [==============================] - 1s 154us/sample - loss: 0.0510 - accuracy: 0.9948\n",
      "Epoch 69/100\n",
      "4419/4419 [==============================] - 1s 150us/sample - loss: 0.0487 - accuracy: 0.9948\n",
      "Epoch 70/100\n",
      "4419/4419 [==============================] - 1s 147us/sample - loss: 0.0468 - accuracy: 0.9950\n",
      "Epoch 71/100\n",
      "4419/4419 [==============================] - 1s 145us/sample - loss: 0.0447 - accuracy: 0.9955\n",
      "Epoch 72/100\n",
      "4419/4419 [==============================] - 1s 224us/sample - loss: 0.0438 - accuracy: 0.9957\n",
      "Epoch 73/100\n",
      "4419/4419 [==============================] - 1s 146us/sample - loss: 0.0420 - accuracy: 0.9957\n",
      "Epoch 74/100\n",
      "4419/4419 [==============================] - 1s 137us/sample - loss: 0.0404 - accuracy: 0.9957\n",
      "Epoch 75/100\n",
      "4419/4419 [==============================] - 1s 143us/sample - loss: 0.0386 - accuracy: 0.9962\n",
      "Epoch 76/100\n",
      "4419/4419 [==============================] - 1s 137us/sample - loss: 0.0372 - accuracy: 0.9966\n",
      "Epoch 77/100\n",
      "4419/4419 [==============================] - 1s 143us/sample - loss: 0.0359 - accuracy: 0.9966\n",
      "Epoch 78/100\n",
      "4419/4419 [==============================] - 1s 141us/sample - loss: 0.0346 - accuracy: 0.9971\n",
      "Epoch 79/100\n",
      "4419/4419 [==============================] - 1s 142us/sample - loss: 0.0335 - accuracy: 0.9971\n",
      "Epoch 80/100\n",
      "4419/4419 [==============================] - 1s 141us/sample - loss: 0.0324 - accuracy: 0.9973\n",
      "Epoch 81/100\n",
      "4419/4419 [==============================] - 1s 149us/sample - loss: 0.0315 - accuracy: 0.9971\n",
      "Epoch 82/100\n",
      "4419/4419 [==============================] - 1s 146us/sample - loss: 0.0304 - accuracy: 0.9971\n",
      "Epoch 83/100\n",
      "4419/4419 [==============================] - 1s 140us/sample - loss: 0.0298 - accuracy: 0.9975\n",
      "Epoch 84/100\n",
      "4419/4419 [==============================] - 1s 146us/sample - loss: 0.0288 - accuracy: 0.9973\n",
      "Epoch 85/100\n",
      "4419/4419 [==============================] - 1s 139us/sample - loss: 0.0278 - accuracy: 0.9977\n",
      "Epoch 86/100\n",
      "4419/4419 [==============================] - 1s 149us/sample - loss: 0.0271 - accuracy: 0.9977\n",
      "Epoch 87/100\n",
      "4419/4419 [==============================] - 1s 149us/sample - loss: 0.0263 - accuracy: 0.9977\n",
      "Epoch 88/100\n",
      "4419/4419 [==============================] - 1s 139us/sample - loss: 0.0256 - accuracy: 0.9980\n",
      "Epoch 89/100\n",
      "4419/4419 [==============================] - 1s 142us/sample - loss: 0.0249 - accuracy: 0.9977\n",
      "Epoch 90/100\n",
      "4419/4419 [==============================] - 1s 142us/sample - loss: 0.0241 - accuracy: 0.9980\n",
      "Epoch 91/100\n",
      "4419/4419 [==============================] - 1s 147us/sample - loss: 0.0238 - accuracy: 0.9982\n",
      "Epoch 92/100\n",
      "4419/4419 [==============================] - 1s 144us/sample - loss: 0.0230 - accuracy: 0.9980\n",
      "Epoch 93/100\n",
      "4419/4419 [==============================] - 1s 155us/sample - loss: 0.0223 - accuracy: 0.9982\n",
      "Epoch 94/100\n",
      "4419/4419 [==============================] - 1s 154us/sample - loss: 0.0218 - accuracy: 0.9982\n",
      "Epoch 95/100\n",
      "4419/4419 [==============================] - 1s 158us/sample - loss: 0.0213 - accuracy: 0.9982\n",
      "Epoch 96/100\n",
      "4419/4419 [==============================] - 1s 150us/sample - loss: 0.0207 - accuracy: 0.9982\n",
      "Epoch 97/100\n",
      "4419/4419 [==============================] - 1s 152us/sample - loss: 0.0202 - accuracy: 0.9982\n",
      "Epoch 98/100\n",
      "4419/4419 [==============================] - 1s 153us/sample - loss: 0.0197 - accuracy: 0.9982\n",
      "Epoch 99/100\n",
      "4419/4419 [==============================] - 1s 184us/sample - loss: 0.0193 - accuracy: 0.9982\n",
      "Epoch 100/100\n",
      "4419/4419 [==============================] - 1s 149us/sample - loss: 0.0188 - accuracy: 0.9982\n"
     ]
    }
   ],
   "source": [
    "history=ann_model.fit(X_train,y_train,epochs=100)\n"
   ]
  },
  {
   "cell_type": "code",
   "execution_count": 93,
   "metadata": {},
   "outputs": [
    {
     "data": {
      "image/png": "[encoded data removed]",
      "text/plain": [
       "<Figure size 432x288 with 1 Axes>"
      ]
     },
     "metadata": {
      "needs_background": "light"
     },
     "output_type": "display_data"
    },
    {
     "data": {
      "image/png": "[encoded data removed]",
      "text/plain": [
       "<Figure size 432x288 with 1 Axes>"
      ]
     },
     "metadata": {
      "needs_background": "light"
     },
     "output_type": "display_data"
    }
   ],
   "source": [
    "loss_curve=history.history[\"loss\"]\n",
    "acc_curve = history.history[\"accuracy\"]\n",
    "plt.plot(loss_curve)\n",
    "plt.title(\"Loss\")\n",
    "plt.show()\n",
    "\n",
    "plt.plot(acc_curve)\n",
    "plt.title(\"Accuracy\")\n",
    "plt.show()"
   ]
  },
  {
   "cell_type": "code",
   "execution_count": 107,
   "metadata": {},
   "outputs": [
    {
     "name": "stdout",
     "output_type": "stream",
     "text": [
      "1263/1263 [==============================] - 1s 526us/sample - loss: 4.3559 - accuracy: 0.2874\n"
     ]
    }
   ],
   "source": [
    "test_loss,test_accuracy=ann_model.evaluate(X_test,y_test)"
   ]
  },
  {
   "cell_type": "code",
   "execution_count": 108,
   "metadata": {},
   "outputs": [
    {
     "name": "stdout",
     "output_type": "stream",
     "text": [
      "Test accuracy 0.2874109148979187 et Test loss 4.355865567238295\n"
     ]
    }
   ],
   "source": [
    "print(f'Test accuracy {test_accuracy} et Test loss {test_loss}')"
   ]
  },
  {
   "cell_type": "markdown",
   "metadata": {},
   "source": [
    "# CNN ( Convolutional Neural Network)"
   ]
  },
  {
   "cell_type": "markdown",
   "metadata": {},
   "source": [
    "Les CNN sont applicaples sur des tableaux avec des données d'images non applaties comme on a pu le faire pour les autres modèles. Nous gardons donc nos format d'images en 50x50x3."
   ]
  },
  {
   "cell_type": "code",
   "execution_count": 30,
   "metadata": {},
   "outputs": [],
   "source": [
    "def Image_array2D(image):\n",
    "    image = np.asarray(image) #transforme en tableau numpy\n",
    "    return image"
   ]
  },
  {
   "cell_type": "code",
   "execution_count": 31,
   "metadata": {},
   "outputs": [],
   "source": [
    "dtr_2D=dtr[dtr[\"class\"].isin(class_kept)]"
   ]
  },
  {
   "cell_type": "code",
   "execution_count": 32,
   "metadata": {},
   "outputs": [
    {
     "name": "stderr",
     "output_type": "stream",
     "text": [
      "c:\\users\\sarah\\anaconda3\\envs\\ml_test2\\lib\\site-packages\\ipykernel_launcher.py:4: SettingWithCopyWarning: \n",
      "A value is trying to be set on a copy of a slice from a DataFrame.\n",
      "Try using .loc[row_indexer,col_indexer] = value instead\n",
      "\n",
      "See the caveats in the documentation: https://pandas.pydata.org/pandas-docs/stable/user_guide/indexing.html#returning-a-view-versus-a-copy\n",
      "  after removing the cwd from sys.path.\n"
     ]
    }
   ],
   "source": [
    "list_array=list()\n",
    "for i in range(len(dtr_2D)):\n",
    "    list_array.append(Image_array2D(Resolution(Bytes_image(dtr_2D.iloc[i]['image']))))\n",
    "dtr_2D[\"features\"]=list_array"
   ]
  },
  {
   "cell_type": "code",
   "execution_count": 33,
   "metadata": {},
   "outputs": [],
   "source": [
    "X=np.asarray(list(dtr_2D[\"features\"].values))\n",
    "#y label, vecteur,list des classes\n",
    "y=np.asarray(list(np.array(dtr_2D[\"class\"])))\n"
   ]
  },
  {
   "cell_type": "code",
   "execution_count": 135,
   "metadata": {},
   "outputs": [
    {
     "name": "stdout",
     "output_type": "stream",
     "text": [
      "shape features (6313, 50, 50, 3)\n",
      "shape label (6313,)\n"
     ]
    }
   ],
   "source": [
    "print(\"shape features\",X.shape)\n",
    "print(\"shape label\",y.shape)"
   ]
  },
  {
   "cell_type": "markdown",
   "metadata": {},
   "source": [
    "#### Visualisation de quelques images"
   ]
  },
  {
   "cell_type": "code",
   "execution_count": 136,
   "metadata": {
    "collapsed": true
   },
   "outputs": [
    {
     "data": {
      "image/png": "[encoded data removed]",
      "text/plain": [
       "<Figure size 432x288 with 1 Axes>"
      ]
     },
     "metadata": {
      "needs_background": "light"
     },
     "output_type": "display_data"
    },
    {
     "data": {
      "image/png": "[encoded data removed]",
      "text/plain": [
       "<Figure size 432x288 with 1 Axes>"
      ]
     },
     "metadata": {
      "needs_background": "light"
     },
     "output_type": "display_data"
    },
    {
     "data": {
      "image/png": "[encoded data removed]",
      "text/plain": [
       "<Figure size 432x288 with 1 Axes>"
      ]
     },
     "metadata": {
      "needs_background": "light"
     },
     "output_type": "display_data"
    },
    {
     "data": {
      "image/png": "[encoded data removed]",
      "text/plain": [
       "<Figure size 432x288 with 1 Axes>"
      ]
     },
     "metadata": {
      "needs_background": "light"
     },
     "output_type": "display_data"
    },
    {
     "data": {
      "image/png": "[encoded data removed]",
      "text/plain": [
       "<Figure size 432x288 with 1 Axes>"
      ]
     },
     "metadata": {
      "needs_background": "light"
     },
     "output_type": "display_data"
    },
    {
     "data": {
      "image/png": "[encoded data removed]",
      "text/plain": [
       "<Figure size 432x288 with 1 Axes>"
      ]
     },
     "metadata": {
      "needs_background": "light"
     },
     "output_type": "display_data"
    },
    {
     "data": {
      "image/png": "[encoded data removed]",
      "text/plain": [
       "<Figure size 432x288 with 1 Axes>"
      ]
     },
     "metadata": {
      "needs_background": "light"
     },
     "output_type": "display_data"
    },
    {
     "data": {
      "image/png": "[encoded data removed]",
      "text/plain": [
       "<Figure size 432x288 with 1 Axes>"
      ]
     },
     "metadata": {
      "needs_background": "light"
     },
     "output_type": "display_data"
    },
    {
     "data": {
      "image/png": "[encoded data removed]",
      "text/plain": [
       "<Figure size 432x288 with 1 Axes>"
      ]
     },
     "metadata": {
      "needs_background": "light"
     },
     "output_type": "display_data"
    },
    {
     "data": {
      "image/png": "[encoded data removed]",
      "text/plain": [
       "<Figure size 432x288 with 1 Axes>"
      ]
     },
     "metadata": {
      "needs_background": "light"
     },
     "output_type": "display_data"
    }
   ],
   "source": [
    "from random import randint\n",
    "# on regarde 10 images random\n",
    "for a in [randint(0,len(y)) for _ in range(10)]:\n",
    "    plt.imshow(X[a])\n",
    "    plt.show()"
   ]
  },
  {
   "cell_type": "markdown",
   "metadata": {},
   "source": [
    "### Création des modèles "
   ]
  },
  {
   "cell_type": "markdown",
   "metadata": {},
   "source": [
    "Nous allons maintenant tenter de faire un simple réseau convolutif à 3 couches de convolutions. L'idée d'une couche de convolution est de détecter des formes récurrentes retrouvées dans les différentes images. Dans le modèle que nous créons, la première couche recherche jusqu'à 128 formes de tailles 3x3, puis avec ces formes nous en construisons 64 autres de tailles 5x5 pour finir avec la troisième couche qui construit 32 autres formes de taille 7x7.\n",
    "\n"
   ]
  },
  {
   "cell_type": "code",
   "execution_count": 34,
   "metadata": {},
   "outputs": [],
   "source": [
    "X_train, X_test, y_train, y_test = train_test_split(X, y, test_size=0.3, random_state=42)"
   ]
  },
  {
   "cell_type": "code",
   "execution_count": 35,
   "metadata": {
    "scrolled": true
   },
   "outputs": [],
   "source": [
    "X_train=X_train/255.0\n",
    "X_test=X_test/255.0"
   ]
  },
  {
   "cell_type": "code",
   "execution_count": 139,
   "metadata": {},
   "outputs": [],
   "source": [
    "#creation modele\n",
    "model = keras.models.Sequential([\n",
    "    keras.layers.Conv2D(filters=128, kernel_size=(3, 3), activation=\"relu\", padding=\"valid\", input_shape=(50, 50, 3)),\n",
    "    keras.layers.Conv2D(filters=64,  kernel_size=(5, 5), activation=\"relu\", padding=\"valid\"),\n",
    "    keras.layers.Conv2D(filters=32,  kernel_size=(7, 7), activation=\"relu\", padding=\"valid\"),\n",
    "    keras.layers.Flatten(),\n",
    "    keras.layers.Dense(104, activation=\"softmax\")])"
   ]
  },
  {
   "cell_type": "code",
   "execution_count": 140,
   "metadata": {},
   "outputs": [],
   "source": [
    "#Compilation du réseau de convolution\n",
    "model.compile(optimizer='adam', loss='sparse_categorical_crossentropy', metrics = ['sparse_categorical_accuracy'])"
   ]
  },
  {
   "cell_type": "code",
   "execution_count": 141,
   "metadata": {
    "collapsed": true
   },
   "outputs": [
    {
     "name": "stdout",
     "output_type": "stream",
     "text": [
      "Train on 4419 samples\n",
      "Epoch 1/20\n",
      " 200/4419 [>.............................] - ETA: 2:48 - loss: 4.6397 - sparse_categorical_accuracy: 0.0000e+00"
     ]
    },
    {
     "ename": "KeyboardInterrupt",
     "evalue": "",
     "output_type": "error",
     "traceback": [
      "\u001b[1;31m---------------------------------------------------------------------------\u001b[0m",
      "\u001b[1;31mKeyboardInterrupt\u001b[0m                         Traceback (most recent call last)",
      "\u001b[1;32m<ipython-input-141-583a5335db12>\u001b[0m in \u001b[0;36m<module>\u001b[1;34m\u001b[0m\n\u001b[1;32m----> 1\u001b[1;33m \u001b[0mhistory\u001b[0m \u001b[1;33m=\u001b[0m \u001b[0mmodel\u001b[0m\u001b[1;33m.\u001b[0m\u001b[0mfit\u001b[0m\u001b[1;33m(\u001b[0m\u001b[0mX_train\u001b[0m\u001b[1;33m,\u001b[0m \u001b[0my_train\u001b[0m\u001b[1;33m,\u001b[0m \u001b[0mepochs\u001b[0m\u001b[1;33m=\u001b[0m\u001b[1;36m20\u001b[0m\u001b[1;33m,\u001b[0m\u001b[0mbatch_size\u001b[0m\u001b[1;33m=\u001b[0m\u001b[1;36m100\u001b[0m\u001b[1;33m)\u001b[0m\u001b[1;33m\u001b[0m\u001b[1;33m\u001b[0m\u001b[0m\n\u001b[0m",
      "\u001b[1;32mc:\\users\\sarah\\anaconda3\\envs\\ml_test2\\lib\\site-packages\\tensorflow_core\\python\\keras\\engine\\training.py\u001b[0m in \u001b[0;36mfit\u001b[1;34m(self, x, y, batch_size, epochs, verbose, callbacks, validation_split, validation_data, shuffle, class_weight, sample_weight, initial_epoch, steps_per_epoch, validation_steps, validation_freq, max_queue_size, workers, use_multiprocessing, **kwargs)\u001b[0m\n\u001b[0;32m    817\u001b[0m         \u001b[0mmax_queue_size\u001b[0m\u001b[1;33m=\u001b[0m\u001b[0mmax_queue_size\u001b[0m\u001b[1;33m,\u001b[0m\u001b[1;33m\u001b[0m\u001b[1;33m\u001b[0m\u001b[0m\n\u001b[0;32m    818\u001b[0m         \u001b[0mworkers\u001b[0m\u001b[1;33m=\u001b[0m\u001b[0mworkers\u001b[0m\u001b[1;33m,\u001b[0m\u001b[1;33m\u001b[0m\u001b[1;33m\u001b[0m\u001b[0m\n\u001b[1;32m--> 819\u001b[1;33m         use_multiprocessing=use_multiprocessing)\n\u001b[0m\u001b[0;32m    820\u001b[0m \u001b[1;33m\u001b[0m\u001b[0m\n\u001b[0;32m    821\u001b[0m   def evaluate(self,\n",
      "\u001b[1;32mc:\\users\\sarah\\anaconda3\\envs\\ml_test2\\lib\\site-packages\\tensorflow_core\\python\\keras\\engine\\training_v2.py\u001b[0m in \u001b[0;36mfit\u001b[1;34m(self, model, x, y, batch_size, epochs, verbose, callbacks, validation_split, validation_data, shuffle, class_weight, sample_weight, initial_epoch, steps_per_epoch, validation_steps, validation_freq, max_queue_size, workers, use_multiprocessing, **kwargs)\u001b[0m\n\u001b[0;32m    340\u001b[0m                 \u001b[0mmode\u001b[0m\u001b[1;33m=\u001b[0m\u001b[0mModeKeys\u001b[0m\u001b[1;33m.\u001b[0m\u001b[0mTRAIN\u001b[0m\u001b[1;33m,\u001b[0m\u001b[1;33m\u001b[0m\u001b[1;33m\u001b[0m\u001b[0m\n\u001b[0;32m    341\u001b[0m                 \u001b[0mtraining_context\u001b[0m\u001b[1;33m=\u001b[0m\u001b[0mtraining_context\u001b[0m\u001b[1;33m,\u001b[0m\u001b[1;33m\u001b[0m\u001b[1;33m\u001b[0m\u001b[0m\n\u001b[1;32m--> 342\u001b[1;33m                 total_epochs=epochs)\n\u001b[0m\u001b[0;32m    343\u001b[0m             \u001b[0mcbks\u001b[0m\u001b[1;33m.\u001b[0m\u001b[0mmake_logs\u001b[0m\u001b[1;33m(\u001b[0m\u001b[0mmodel\u001b[0m\u001b[1;33m,\u001b[0m \u001b[0mepoch_logs\u001b[0m\u001b[1;33m,\u001b[0m \u001b[0mtraining_result\u001b[0m\u001b[1;33m,\u001b[0m \u001b[0mModeKeys\u001b[0m\u001b[1;33m.\u001b[0m\u001b[0mTRAIN\u001b[0m\u001b[1;33m)\u001b[0m\u001b[1;33m\u001b[0m\u001b[1;33m\u001b[0m\u001b[0m\n\u001b[0;32m    344\u001b[0m \u001b[1;33m\u001b[0m\u001b[0m\n",
      "\u001b[1;32mc:\\users\\sarah\\anaconda3\\envs\\ml_test2\\lib\\site-packages\\tensorflow_core\\python\\keras\\engine\\training_v2.py\u001b[0m in \u001b[0;36mrun_one_epoch\u001b[1;34m(model, iterator, execution_function, dataset_size, batch_size, strategy, steps_per_epoch, num_samples, mode, training_context, total_epochs)\u001b[0m\n\u001b[0;32m    126\u001b[0m         step=step, mode=mode, size=current_batch_size) as batch_logs:\n\u001b[0;32m    127\u001b[0m       \u001b[1;32mtry\u001b[0m\u001b[1;33m:\u001b[0m\u001b[1;33m\u001b[0m\u001b[1;33m\u001b[0m\u001b[0m\n\u001b[1;32m--> 128\u001b[1;33m         \u001b[0mbatch_outs\u001b[0m \u001b[1;33m=\u001b[0m \u001b[0mexecution_function\u001b[0m\u001b[1;33m(\u001b[0m\u001b[0miterator\u001b[0m\u001b[1;33m)\u001b[0m\u001b[1;33m\u001b[0m\u001b[1;33m\u001b[0m\u001b[0m\n\u001b[0m\u001b[0;32m    129\u001b[0m       \u001b[1;32mexcept\u001b[0m \u001b[1;33m(\u001b[0m\u001b[0mStopIteration\u001b[0m\u001b[1;33m,\u001b[0m \u001b[0merrors\u001b[0m\u001b[1;33m.\u001b[0m\u001b[0mOutOfRangeError\u001b[0m\u001b[1;33m)\u001b[0m\u001b[1;33m:\u001b[0m\u001b[1;33m\u001b[0m\u001b[1;33m\u001b[0m\u001b[0m\n\u001b[0;32m    130\u001b[0m         \u001b[1;31m# TODO(kaftan): File bug about tf function and errors.OutOfRangeError?\u001b[0m\u001b[1;33m\u001b[0m\u001b[1;33m\u001b[0m\u001b[1;33m\u001b[0m\u001b[0m\n",
      "\u001b[1;32mc:\\users\\sarah\\anaconda3\\envs\\ml_test2\\lib\\site-packages\\tensorflow_core\\python\\keras\\engine\\training_v2_utils.py\u001b[0m in \u001b[0;36mexecution_function\u001b[1;34m(input_fn)\u001b[0m\n\u001b[0;32m     96\u001b[0m     \u001b[1;31m# `numpy` translates Tensors to values in Eager mode.\u001b[0m\u001b[1;33m\u001b[0m\u001b[1;33m\u001b[0m\u001b[1;33m\u001b[0m\u001b[0m\n\u001b[0;32m     97\u001b[0m     return nest.map_structure(_non_none_constant_value,\n\u001b[1;32m---> 98\u001b[1;33m                               distributed_function(input_fn))\n\u001b[0m\u001b[0;32m     99\u001b[0m \u001b[1;33m\u001b[0m\u001b[0m\n\u001b[0;32m    100\u001b[0m   \u001b[1;32mreturn\u001b[0m \u001b[0mexecution_function\u001b[0m\u001b[1;33m\u001b[0m\u001b[1;33m\u001b[0m\u001b[0m\n",
      "\u001b[1;32mc:\\users\\sarah\\anaconda3\\envs\\ml_test2\\lib\\site-packages\\tensorflow_core\\python\\eager\\def_function.py\u001b[0m in \u001b[0;36m__call__\u001b[1;34m(self, *args, **kwds)\u001b[0m\n\u001b[0;32m    566\u001b[0m         \u001b[0mxla_context\u001b[0m\u001b[1;33m.\u001b[0m\u001b[0mExit\u001b[0m\u001b[1;33m(\u001b[0m\u001b[1;33m)\u001b[0m\u001b[1;33m\u001b[0m\u001b[1;33m\u001b[0m\u001b[0m\n\u001b[0;32m    567\u001b[0m     \u001b[1;32melse\u001b[0m\u001b[1;33m:\u001b[0m\u001b[1;33m\u001b[0m\u001b[1;33m\u001b[0m\u001b[0m\n\u001b[1;32m--> 568\u001b[1;33m       \u001b[0mresult\u001b[0m \u001b[1;33m=\u001b[0m \u001b[0mself\u001b[0m\u001b[1;33m.\u001b[0m\u001b[0m_call\u001b[0m\u001b[1;33m(\u001b[0m\u001b[1;33m*\u001b[0m\u001b[0margs\u001b[0m\u001b[1;33m,\u001b[0m \u001b[1;33m**\u001b[0m\u001b[0mkwds\u001b[0m\u001b[1;33m)\u001b[0m\u001b[1;33m\u001b[0m\u001b[1;33m\u001b[0m\u001b[0m\n\u001b[0m\u001b[0;32m    569\u001b[0m \u001b[1;33m\u001b[0m\u001b[0m\n\u001b[0;32m    570\u001b[0m     \u001b[1;32mif\u001b[0m \u001b[0mtracing_count\u001b[0m \u001b[1;33m==\u001b[0m \u001b[0mself\u001b[0m\u001b[1;33m.\u001b[0m\u001b[0m_get_tracing_count\u001b[0m\u001b[1;33m(\u001b[0m\u001b[1;33m)\u001b[0m\u001b[1;33m:\u001b[0m\u001b[1;33m\u001b[0m\u001b[1;33m\u001b[0m\u001b[0m\n",
      "\u001b[1;32mc:\\users\\sarah\\anaconda3\\envs\\ml_test2\\lib\\site-packages\\tensorflow_core\\python\\eager\\def_function.py\u001b[0m in \u001b[0;36m_call\u001b[1;34m(self, *args, **kwds)\u001b[0m\n\u001b[0;32m    597\u001b[0m       \u001b[1;31m# In this case we have created variables on the first call, so we run the\u001b[0m\u001b[1;33m\u001b[0m\u001b[1;33m\u001b[0m\u001b[1;33m\u001b[0m\u001b[0m\n\u001b[0;32m    598\u001b[0m       \u001b[1;31m# defunned version which is guaranteed to never create variables.\u001b[0m\u001b[1;33m\u001b[0m\u001b[1;33m\u001b[0m\u001b[1;33m\u001b[0m\u001b[0m\n\u001b[1;32m--> 599\u001b[1;33m       \u001b[1;32mreturn\u001b[0m \u001b[0mself\u001b[0m\u001b[1;33m.\u001b[0m\u001b[0m_stateless_fn\u001b[0m\u001b[1;33m(\u001b[0m\u001b[1;33m*\u001b[0m\u001b[0margs\u001b[0m\u001b[1;33m,\u001b[0m \u001b[1;33m**\u001b[0m\u001b[0mkwds\u001b[0m\u001b[1;33m)\u001b[0m  \u001b[1;31m# pylint: disable=not-callable\u001b[0m\u001b[1;33m\u001b[0m\u001b[1;33m\u001b[0m\u001b[0m\n\u001b[0m\u001b[0;32m    600\u001b[0m     \u001b[1;32melif\u001b[0m \u001b[0mself\u001b[0m\u001b[1;33m.\u001b[0m\u001b[0m_stateful_fn\u001b[0m \u001b[1;32mis\u001b[0m \u001b[1;32mnot\u001b[0m \u001b[1;32mNone\u001b[0m\u001b[1;33m:\u001b[0m\u001b[1;33m\u001b[0m\u001b[1;33m\u001b[0m\u001b[0m\n\u001b[0;32m    601\u001b[0m       \u001b[1;31m# Release the lock early so that multiple threads can perform the call\u001b[0m\u001b[1;33m\u001b[0m\u001b[1;33m\u001b[0m\u001b[1;33m\u001b[0m\u001b[0m\n",
      "\u001b[1;32mc:\\users\\sarah\\anaconda3\\envs\\ml_test2\\lib\\site-packages\\tensorflow_core\\python\\eager\\function.py\u001b[0m in \u001b[0;36m__call__\u001b[1;34m(self, *args, **kwargs)\u001b[0m\n\u001b[0;32m   2361\u001b[0m     \u001b[1;32mwith\u001b[0m \u001b[0mself\u001b[0m\u001b[1;33m.\u001b[0m\u001b[0m_lock\u001b[0m\u001b[1;33m:\u001b[0m\u001b[1;33m\u001b[0m\u001b[1;33m\u001b[0m\u001b[0m\n\u001b[0;32m   2362\u001b[0m       \u001b[0mgraph_function\u001b[0m\u001b[1;33m,\u001b[0m \u001b[0margs\u001b[0m\u001b[1;33m,\u001b[0m \u001b[0mkwargs\u001b[0m \u001b[1;33m=\u001b[0m \u001b[0mself\u001b[0m\u001b[1;33m.\u001b[0m\u001b[0m_maybe_define_function\u001b[0m\u001b[1;33m(\u001b[0m\u001b[0margs\u001b[0m\u001b[1;33m,\u001b[0m \u001b[0mkwargs\u001b[0m\u001b[1;33m)\u001b[0m\u001b[1;33m\u001b[0m\u001b[1;33m\u001b[0m\u001b[0m\n\u001b[1;32m-> 2363\u001b[1;33m     \u001b[1;32mreturn\u001b[0m \u001b[0mgraph_function\u001b[0m\u001b[1;33m.\u001b[0m\u001b[0m_filtered_call\u001b[0m\u001b[1;33m(\u001b[0m\u001b[0margs\u001b[0m\u001b[1;33m,\u001b[0m \u001b[0mkwargs\u001b[0m\u001b[1;33m)\u001b[0m  \u001b[1;31m# pylint: disable=protected-access\u001b[0m\u001b[1;33m\u001b[0m\u001b[1;33m\u001b[0m\u001b[0m\n\u001b[0m\u001b[0;32m   2364\u001b[0m \u001b[1;33m\u001b[0m\u001b[0m\n\u001b[0;32m   2365\u001b[0m   \u001b[1;33m@\u001b[0m\u001b[0mproperty\u001b[0m\u001b[1;33m\u001b[0m\u001b[1;33m\u001b[0m\u001b[0m\n",
      "\u001b[1;32mc:\\users\\sarah\\anaconda3\\envs\\ml_test2\\lib\\site-packages\\tensorflow_core\\python\\eager\\function.py\u001b[0m in \u001b[0;36m_filtered_call\u001b[1;34m(self, args, kwargs)\u001b[0m\n\u001b[0;32m   1609\u001b[0m          if isinstance(t, (ops.Tensor,\n\u001b[0;32m   1610\u001b[0m                            resource_variable_ops.BaseResourceVariable))),\n\u001b[1;32m-> 1611\u001b[1;33m         self.captured_inputs)\n\u001b[0m\u001b[0;32m   1612\u001b[0m \u001b[1;33m\u001b[0m\u001b[0m\n\u001b[0;32m   1613\u001b[0m   \u001b[1;32mdef\u001b[0m \u001b[0m_call_flat\u001b[0m\u001b[1;33m(\u001b[0m\u001b[0mself\u001b[0m\u001b[1;33m,\u001b[0m \u001b[0margs\u001b[0m\u001b[1;33m,\u001b[0m \u001b[0mcaptured_inputs\u001b[0m\u001b[1;33m,\u001b[0m \u001b[0mcancellation_manager\u001b[0m\u001b[1;33m=\u001b[0m\u001b[1;32mNone\u001b[0m\u001b[1;33m)\u001b[0m\u001b[1;33m:\u001b[0m\u001b[1;33m\u001b[0m\u001b[1;33m\u001b[0m\u001b[0m\n",
      "\u001b[1;32mc:\\users\\sarah\\anaconda3\\envs\\ml_test2\\lib\\site-packages\\tensorflow_core\\python\\eager\\function.py\u001b[0m in \u001b[0;36m_call_flat\u001b[1;34m(self, args, captured_inputs, cancellation_manager)\u001b[0m\n\u001b[0;32m   1690\u001b[0m       \u001b[1;31m# No tape is watching; skip to running the function.\u001b[0m\u001b[1;33m\u001b[0m\u001b[1;33m\u001b[0m\u001b[1;33m\u001b[0m\u001b[0m\n\u001b[0;32m   1691\u001b[0m       return self._build_call_outputs(self._inference_function.call(\n\u001b[1;32m-> 1692\u001b[1;33m           ctx, args, cancellation_manager=cancellation_manager))\n\u001b[0m\u001b[0;32m   1693\u001b[0m     forward_backward = self._select_forward_and_backward_functions(\n\u001b[0;32m   1694\u001b[0m         \u001b[0margs\u001b[0m\u001b[1;33m,\u001b[0m\u001b[1;33m\u001b[0m\u001b[1;33m\u001b[0m\u001b[0m\n",
      "\u001b[1;32mc:\\users\\sarah\\anaconda3\\envs\\ml_test2\\lib\\site-packages\\tensorflow_core\\python\\eager\\function.py\u001b[0m in \u001b[0;36mcall\u001b[1;34m(self, ctx, args, cancellation_manager)\u001b[0m\n\u001b[0;32m    543\u001b[0m               \u001b[0minputs\u001b[0m\u001b[1;33m=\u001b[0m\u001b[0margs\u001b[0m\u001b[1;33m,\u001b[0m\u001b[1;33m\u001b[0m\u001b[1;33m\u001b[0m\u001b[0m\n\u001b[0;32m    544\u001b[0m               \u001b[0mattrs\u001b[0m\u001b[1;33m=\u001b[0m\u001b[1;33m(\u001b[0m\u001b[1;34m\"executor_type\"\u001b[0m\u001b[1;33m,\u001b[0m \u001b[0mexecutor_type\u001b[0m\u001b[1;33m,\u001b[0m \u001b[1;34m\"config_proto\"\u001b[0m\u001b[1;33m,\u001b[0m \u001b[0mconfig\u001b[0m\u001b[1;33m)\u001b[0m\u001b[1;33m,\u001b[0m\u001b[1;33m\u001b[0m\u001b[1;33m\u001b[0m\u001b[0m\n\u001b[1;32m--> 545\u001b[1;33m               ctx=ctx)\n\u001b[0m\u001b[0;32m    546\u001b[0m         \u001b[1;32melse\u001b[0m\u001b[1;33m:\u001b[0m\u001b[1;33m\u001b[0m\u001b[1;33m\u001b[0m\u001b[0m\n\u001b[0;32m    547\u001b[0m           outputs = execute.execute_with_cancellation(\n",
      "\u001b[1;32mc:\\users\\sarah\\anaconda3\\envs\\ml_test2\\lib\\site-packages\\tensorflow_core\\python\\eager\\execute.py\u001b[0m in \u001b[0;36mquick_execute\u001b[1;34m(op_name, num_outputs, inputs, attrs, ctx, name)\u001b[0m\n\u001b[0;32m     59\u001b[0m     tensors = pywrap_tensorflow.TFE_Py_Execute(ctx._handle, device_name,\n\u001b[0;32m     60\u001b[0m                                                \u001b[0mop_name\u001b[0m\u001b[1;33m,\u001b[0m \u001b[0minputs\u001b[0m\u001b[1;33m,\u001b[0m \u001b[0mattrs\u001b[0m\u001b[1;33m,\u001b[0m\u001b[1;33m\u001b[0m\u001b[1;33m\u001b[0m\u001b[0m\n\u001b[1;32m---> 61\u001b[1;33m                                                num_outputs)\n\u001b[0m\u001b[0;32m     62\u001b[0m   \u001b[1;32mexcept\u001b[0m \u001b[0mcore\u001b[0m\u001b[1;33m.\u001b[0m\u001b[0m_NotOkStatusException\u001b[0m \u001b[1;32mas\u001b[0m \u001b[0me\u001b[0m\u001b[1;33m:\u001b[0m\u001b[1;33m\u001b[0m\u001b[1;33m\u001b[0m\u001b[0m\n\u001b[0;32m     63\u001b[0m     \u001b[1;32mif\u001b[0m \u001b[0mname\u001b[0m \u001b[1;32mis\u001b[0m \u001b[1;32mnot\u001b[0m \u001b[1;32mNone\u001b[0m\u001b[1;33m:\u001b[0m\u001b[1;33m\u001b[0m\u001b[1;33m\u001b[0m\u001b[0m\n",
      "\u001b[1;31mKeyboardInterrupt\u001b[0m: "
     ]
    }
   ],
   "source": [
    "history = model.fit(X_train, y_train, epochs=20,batch_size=100)"
   ]
  },
  {
   "cell_type": "code",
   "execution_count": 78,
   "metadata": {
    "collapsed": true
   },
   "outputs": [
    {
     "data": {
      "image/png": "[encoded data removed]",
      "text/plain": [
       "<Figure size 432x288 with 1 Axes>"
      ]
     },
     "metadata": {
      "needs_background": "light"
     },
     "output_type": "display_data"
    },
    {
     "data": {
      "image/png": "[encoded data removed]",
      "text/plain": [
       "<Figure size 432x288 with 1 Axes>"
      ]
     },
     "metadata": {
      "needs_background": "light"
     },
     "output_type": "display_data"
    }
   ],
   "source": [
    "loss_curve=history.history[\"loss\"]\n",
    "acc_curve = history.history[\"sparse_categorical_accuracy\"]\n",
    "plt.plot(loss_curve)\n",
    "plt.title(\"Loss\")\n",
    "plt.show()\n",
    "\n",
    "plt.plot(acc_curve)\n",
    "plt.title(\"Accuracy\")\n",
    "plt.show()"
   ]
  },
  {
   "cell_type": "code",
   "execution_count": 80,
   "metadata": {},
   "outputs": [
    {
     "name": "stdout",
     "output_type": "stream",
     "text": [
      "1894/1894 [==============================] - 11s 6ms/sample - loss: 6.6062 - sparse_categorical_accuracy: 0.3733\n"
     ]
    }
   ],
   "source": [
    "test_loss,test_accuracy=model.evaluate(X_test,y_test)"
   ]
  },
  {
   "cell_type": "code",
   "execution_count": 81,
   "metadata": {
    "scrolled": true
   },
   "outputs": [
    {
     "name": "stdout",
     "output_type": "stream",
     "text": [
      "Test accuracy 0.3732840418815613 et Test loss 6.606189904016578\n"
     ]
    }
   ],
   "source": [
    "print(f'Test accuracy {test_accuracy} et Test loss {test_loss}')"
   ]
  },
  {
   "cell_type": "markdown",
   "metadata": {},
   "source": [
    "Nous tentons maintenant d'introduire ce qu'on appelle la couche \"pooling\" permettant de réduire la taille de l'image , donc de se concentrer sur des formes de plus en plus grande et d'effacer les petits détails qui ne sont pas forcément nécessaire à l'interprétation."
   ]
  },
  {
   "cell_type": "code",
   "execution_count": 146,
   "metadata": {},
   "outputs": [],
   "source": [
    "#creation modele\n",
    "model1 = keras.models.Sequential([\n",
    "    keras.layers.Conv2D(filters=128, kernel_size=(3, 3), activation=\"relu\", padding=\"valid\", input_shape=(50, 50, 3)),\n",
    "    keras.layers.Conv2D(filters=64,  kernel_size=(5, 5), activation=\"relu\", padding=\"valid\"),\n",
    "    keras.layers.Conv2D(filters=32,  kernel_size=(7, 7), activation=\"relu\", padding=\"valid\"),\n",
    "    keras.layers.MaxPooling2D(pool_size=(3, 3)),\n",
    "    keras.layers.Flatten(),\n",
    "    keras.layers.Dense(104, activation=\"softmax\")])"
   ]
  },
  {
   "cell_type": "code",
   "execution_count": 147,
   "metadata": {},
   "outputs": [],
   "source": [
    "model1.compile(optimizer='adam', loss='sparse_categorical_crossentropy', metrics = ['sparse_categorical_accuracy'])"
   ]
  },
  {
   "cell_type": "code",
   "execution_count": 148,
   "metadata": {
    "collapsed": true
   },
   "outputs": [
    {
     "name": "stdout",
     "output_type": "stream",
     "text": [
      "Train on 4419 samples\n",
      "Epoch 1/30\n",
      "4419/4419 [==============================] - 146s 33ms/sample - loss: 2.6736 - sparse_categorical_accuracy: 0.1541\n",
      "Epoch 2/30\n",
      "4419/4419 [==============================] - 154s 35ms/sample - loss: 2.1122 - sparse_categorical_accuracy: 0.2906\n",
      "Epoch 3/30\n",
      "4419/4419 [==============================] - 151s 34ms/sample - loss: 1.8979 - sparse_categorical_accuracy: 0.3600\n",
      "Epoch 4/30\n",
      "4419/4419 [==============================] - 149s 34ms/sample - loss: 1.7719 - sparse_categorical_accuracy: 0.4046\n",
      "Epoch 5/30\n",
      "4419/4419 [==============================] - 149s 34ms/sample - loss: 1.6452 - sparse_categorical_accuracy: 0.4537\n",
      "Epoch 6/30\n",
      "4419/4419 [==============================] - 147s 33ms/sample - loss: 1.4934 - sparse_categorical_accuracy: 0.4931\n",
      "Epoch 7/30\n",
      "4419/4419 [==============================] - 153s 35ms/sample - loss: 1.3787 - sparse_categorical_accuracy: 0.5325\n",
      "Epoch 8/30\n",
      "4419/4419 [==============================] - 156s 35ms/sample - loss: 1.3057 - sparse_categorical_accuracy: 0.5642\n",
      "Epoch 9/30\n",
      "4419/4419 [==============================] - 143s 32ms/sample - loss: 1.1907 - sparse_categorical_accuracy: 0.5976\n",
      "Epoch 10/30\n",
      "4419/4419 [==============================] - 142s 32ms/sample - loss: 1.0988 - sparse_categorical_accuracy: 0.6302\n",
      "Epoch 11/30\n",
      "4419/4419 [==============================] - 142s 32ms/sample - loss: 1.0106 - sparse_categorical_accuracy: 0.6581\n",
      "Epoch 12/30\n",
      "4419/4419 [==============================] - 146s 33ms/sample - loss: 0.9314 - sparse_categorical_accuracy: 0.6938\n",
      "Epoch 13/30\n",
      "4419/4419 [==============================] - 152s 34ms/sample - loss: 0.8524 - sparse_categorical_accuracy: 0.7126\n",
      "Epoch 14/30\n",
      "4419/4419 [==============================] - 154s 35ms/sample - loss: 0.7861 - sparse_categorical_accuracy: 0.7323\n",
      "Epoch 15/30\n",
      "4419/4419 [==============================] - 153s 35ms/sample - loss: 0.7382 - sparse_categorical_accuracy: 0.7470\n",
      "Epoch 16/30\n",
      "4419/4419 [==============================] - 154s 35ms/sample - loss: 0.6066 - sparse_categorical_accuracy: 0.7950\n",
      "Epoch 17/30\n",
      "4419/4419 [==============================] - 153s 35ms/sample - loss: 0.5437 - sparse_categorical_accuracy: 0.8101\n",
      "Epoch 18/30\n",
      "4419/4419 [==============================] - 152s 34ms/sample - loss: 0.4823 - sparse_categorical_accuracy: 0.8316\n",
      "Epoch 19/30\n",
      "4419/4419 [==============================] - 154s 35ms/sample - loss: 0.4743 - sparse_categorical_accuracy: 0.8384\n",
      "Epoch 20/30\n",
      "4419/4419 [==============================] - 153s 35ms/sample - loss: 0.3732 - sparse_categorical_accuracy: 0.8773\n",
      "Epoch 21/30\n",
      "4419/4419 [==============================] - 155s 35ms/sample - loss: 0.3093 - sparse_categorical_accuracy: 0.9018\n",
      "Epoch 22/30\n",
      "4419/4419 [==============================] - 149s 34ms/sample - loss: 0.2507 - sparse_categorical_accuracy: 0.9190\n",
      "Epoch 23/30\n",
      "4419/4419 [==============================] - 149s 34ms/sample - loss: 0.2497 - sparse_categorical_accuracy: 0.9212\n",
      "Epoch 24/30\n",
      "4419/4419 [==============================] - 148s 34ms/sample - loss: 0.2366 - sparse_categorical_accuracy: 0.9246\n",
      "Epoch 25/30\n",
      "4419/4419 [==============================] - 151s 34ms/sample - loss: 0.1882 - sparse_categorical_accuracy: 0.9407\n",
      "Epoch 26/30\n",
      "4419/4419 [==============================] - 151s 34ms/sample - loss: 0.1617 - sparse_categorical_accuracy: 0.9502\n",
      "Epoch 27/30\n",
      "4419/4419 [==============================] - 149s 34ms/sample - loss: 0.1144 - sparse_categorical_accuracy: 0.9665\n",
      "Epoch 28/30\n",
      "4419/4419 [==============================] - 143s 32ms/sample - loss: 0.1008 - sparse_categorical_accuracy: 0.9697\n",
      "Epoch 29/30\n",
      "4419/4419 [==============================] - 145s 33ms/sample - loss: 0.1370 - sparse_categorical_accuracy: 0.9538\n",
      "Epoch 30/30\n",
      "4419/4419 [==============================] - 143s 32ms/sample - loss: 0.1020 - sparse_categorical_accuracy: 0.9706\n"
     ]
    }
   ],
   "source": [
    "history = model1.fit(X_train, y_train, epochs=30,batch_size=100)"
   ]
  },
  {
   "cell_type": "code",
   "execution_count": 150,
   "metadata": {},
   "outputs": [
    {
     "name": "stdout",
     "output_type": "stream",
     "text": [
      "1894/1894 [==============================] - 10s 5ms/sample - loss: 4.4910 - sparse_categorical_accuracy: 0.4467\n"
     ]
    }
   ],
   "source": [
    "test_loss,test_accuracy=model1.evaluate(X_test,y_test)"
   ]
  },
  {
   "cell_type": "markdown",
   "metadata": {},
   "source": [
    "Nous allons maintenant créer un CNN à 5 couches pour ainsi voir si la qualité de précision grandit tout en ajoutant également une couche \"MaxPooling2D\"."
   ]
  },
  {
   "cell_type": "code",
   "execution_count": 36,
   "metadata": {},
   "outputs": [],
   "source": [
    "#creation modele\n",
    "model2 = keras.models.Sequential([\n",
    "    keras.layers.Conv2D(filters=128, kernel_size=(3, 3), activation=\"relu\", padding=\"valid\", input_shape=(50, 50, 3)),\n",
    "    keras.layers.Conv2D(filters=64,  kernel_size=(5, 5), activation=\"relu\", padding=\"valid\"),\n",
    "    keras.layers.Conv2D(filters=32,  kernel_size=(7, 7), activation=\"relu\", padding=\"valid\"),\n",
    "    keras.layers.Conv2D(filters=16,  kernel_size=(9, 9), activation=\"relu\", padding=\"valid\"),\n",
    "    keras.layers.Conv2D(filters=8,  kernel_size=(12, 12), activation=\"relu\", padding=\"valid\"),\n",
    "    keras.layers.MaxPooling2D(pool_size=(7, 7)),\n",
    "    keras.layers.Flatten(),\n",
    "    keras.layers.Dense(104, activation=\"softmax\")])"
   ]
  },
  {
   "cell_type": "code",
   "execution_count": 37,
   "metadata": {},
   "outputs": [],
   "source": [
    "model2.compile(optimizer='adam', loss='sparse_categorical_crossentropy', metrics = ['sparse_categorical_accuracy'])"
   ]
  },
  {
   "cell_type": "code",
   "execution_count": 38,
   "metadata": {},
   "outputs": [
    {
     "name": "stdout",
     "output_type": "stream",
     "text": [
      "Train on 4419 samples\n",
      "Epoch 1/30\n",
      "4419/4419 [==============================] - 174s 39ms/sample - loss: 4.2634 - sparse_categorical_accuracy: 0.0776\n",
      "Epoch 2/30\n",
      "4419/4419 [==============================] - 171s 39ms/sample - loss: 2.9220 - sparse_categorical_accuracy: 0.1378\n",
      "Epoch 3/30\n",
      "4419/4419 [==============================] - 171s 39ms/sample - loss: 2.5141 - sparse_categorical_accuracy: 0.1593\n",
      "Epoch 4/30\n",
      "4419/4419 [==============================] - 171s 39ms/sample - loss: 2.4403 - sparse_categorical_accuracy: 0.1697\n",
      "Epoch 5/30\n",
      "4419/4419 [==============================] - 171s 39ms/sample - loss: 2.3959 - sparse_categorical_accuracy: 0.1856\n",
      "Epoch 6/30\n",
      "4419/4419 [==============================] - 171s 39ms/sample - loss: 2.3204 - sparse_categorical_accuracy: 0.2120\n",
      "Epoch 7/30\n",
      "4419/4419 [==============================] - 171s 39ms/sample - loss: 2.3011 - sparse_categorical_accuracy: 0.2270\n",
      "Epoch 8/30\n",
      "4419/4419 [==============================] - 172s 39ms/sample - loss: 2.2103 - sparse_categorical_accuracy: 0.2566\n",
      "Epoch 9/30\n",
      "4419/4419 [==============================] - 170s 39ms/sample - loss: 2.1236 - sparse_categorical_accuracy: 0.2695\n",
      "Epoch 10/30\n",
      "4419/4419 [==============================] - 170s 39ms/sample - loss: 2.0359 - sparse_categorical_accuracy: 0.3053\n",
      "Epoch 11/30\n",
      "4419/4419 [==============================] - 5910s 1s/sample - loss: 1.9656 - sparse_categorical_accuracy: 0.3297\n",
      "Epoch 12/30\n",
      "4419/4419 [==============================] - 172s 39ms/sample - loss: 1.8983 - sparse_categorical_accuracy: 0.3566\n",
      "Epoch 13/30\n",
      "4419/4419 [==============================] - 173s 39ms/sample - loss: 1.8443 - sparse_categorical_accuracy: 0.3691\n",
      "Epoch 14/30\n",
      "4419/4419 [==============================] - 170s 39ms/sample - loss: 1.7976 - sparse_categorical_accuracy: 0.3983\n",
      "Epoch 15/30\n",
      "4419/4419 [==============================] - 171s 39ms/sample - loss: 1.7740 - sparse_categorical_accuracy: 0.4003\n",
      "Epoch 16/30\n",
      "4419/4419 [==============================] - 171s 39ms/sample - loss: 1.7279 - sparse_categorical_accuracy: 0.4123\n",
      "Epoch 17/30\n",
      "4419/4419 [==============================] - 171s 39ms/sample - loss: 1.6831 - sparse_categorical_accuracy: 0.4336\n",
      "Epoch 18/30\n",
      "4419/4419 [==============================] - 171s 39ms/sample - loss: 1.6543 - sparse_categorical_accuracy: 0.4458\n",
      "Epoch 19/30\n",
      "4419/4419 [==============================] - 169s 38ms/sample - loss: 1.6494 - sparse_categorical_accuracy: 0.4474\n",
      "Epoch 20/30\n",
      "4419/4419 [==============================] - 170s 38ms/sample - loss: 1.5865 - sparse_categorical_accuracy: 0.4761\n",
      "Epoch 21/30\n",
      "4419/4419 [==============================] - 170s 39ms/sample - loss: 1.6068 - sparse_categorical_accuracy: 0.4709\n",
      "Epoch 22/30\n",
      "4419/4419 [==============================] - 1289s 292ms/sample - loss: 1.5544 - sparse_categorical_accuracy: 0.4890\n",
      "Epoch 23/30\n",
      "4419/4419 [==============================] - 171s 39ms/sample - loss: 1.5318 - sparse_categorical_accuracy: 0.4897\n",
      "Epoch 24/30\n",
      "4419/4419 [==============================] - 171s 39ms/sample - loss: 1.4967 - sparse_categorical_accuracy: 0.4904\n",
      "Epoch 25/30\n",
      "4419/4419 [==============================] - 171s 39ms/sample - loss: 1.4706 - sparse_categorical_accuracy: 0.5055\n",
      "Epoch 26/30\n",
      "4419/4419 [==============================] - 172s 39ms/sample - loss: 1.4492 - sparse_categorical_accuracy: 0.5209\n",
      "Epoch 27/30\n",
      "4419/4419 [==============================] - 171s 39ms/sample - loss: 1.4295 - sparse_categorical_accuracy: 0.5191\n",
      "Epoch 28/30\n",
      "4419/4419 [==============================] - 172s 39ms/sample - loss: 1.3793 - sparse_categorical_accuracy: 0.5377\n",
      "Epoch 29/30\n",
      "4419/4419 [==============================] - 171s 39ms/sample - loss: 1.3429 - sparse_categorical_accuracy: 0.5476\n",
      "Epoch 30/30\n",
      "4419/4419 [==============================] - 170s 38ms/sample - loss: 1.3183 - sparse_categorical_accuracy: 0.5644\n"
     ]
    }
   ],
   "source": [
    "history = model2.fit(X_train, y_train, epochs=50,batch_size=100)"
   ]
  },
  {
   "cell_type": "code",
   "execution_count": 39,
   "metadata": {},
   "outputs": [
    {
     "name": "stdout",
     "output_type": "stream",
     "text": [
      "1894/1894 [==============================] - 11s 6ms/sample - loss: 1.6795 - sparse_categorical_accuracy: 0.4520\n"
     ]
    }
   ],
   "source": [
    "test_loss,test_accuracy=model2.evaluate(X_test,y_test)"
   ]
  },
  {
   "cell_type": "markdown",
   "metadata": {},
   "source": [
    "## Comparaison des modeles"
   ]
  },
  {
   "cell_type": "code",
   "execution_count": 2,
   "metadata": {},
   "outputs": [],
   "source": [
    "\n",
    "from sklearn.neural_network import MLPClassifier\n",
    "from sklearn.neighbors import KNeighborsClassifier\n",
    "from sklearn.svm import SVC\n",
    "from sklearn.gaussian_process import GaussianProcessClassifier\n",
    "from sklearn.ensemble import GradientBoostingClassifier\n",
    "from sklearn.gaussian_process.kernels import RBF\n",
    "from sklearn.tree import DecisionTreeClassifier\n",
    "from sklearn.ensemble import ExtraTreesClassifier\n",
    "from sklearn.ensemble import RandomForestClassifier, AdaBoostClassifier\n",
    "from sklearn.naive_bayes import GaussianNB\n",
    "from sklearn.discriminant_analysis import QuadraticDiscriminantAnalysis\n",
    "from sklearn.linear_model import SGDClassifier"
   ]
  },
  {
   "cell_type": "markdown",
   "metadata": {},
   "source": [
    "### Les classifiers"
   ]
  },
  {
   "cell_type": "code",
   "execution_count": 4,
   "metadata": {},
   "outputs": [],
   "source": [
    "\n",
    "names = [\"Linear_SVM\", \"Polynomial_SVM\", \"RBF_SVM\", \"Gaussian_Process\",\n",
    "         \"Gradient_Boosting\",\"Neural_Net\"]\n",
    "\n",
    "classifiers = [\n",
    "    SVC(kernel=\"linear\", C=1),\n",
    "    SVC(kernel=\"poly\", degree=2, C=1),\n",
    "    SVC(kernel=\"rbf\", C=10, gamma=0.4),\n",
    "    GaussianProcessClassifier(1.0 * RBF(1.0)),\n",
    "    GradientBoostingClassifier(n_estimators=100, learning_rate=1.0),\n",
    "    MLPClassifier(alpha=1, max_iter=1000)]"
   ]
  },
  {
   "cell_type": "markdown",
   "metadata": {},
   "source": [
    "### Construire un modèle, appliquer un modèle sur les données de test et enregistrer les scores de précision"
   ]
  },
  {
   "cell_type": "code",
   "execution_count": 5,
   "metadata": {},
   "outputs": [
    {
     "ename": "NameError",
     "evalue": "name 'dtr_clean1' is not defined",
     "output_type": "error",
     "traceback": [
      "\u001b[1;31m---------------------------------------------------------------------------\u001b[0m",
      "\u001b[1;31mNameError\u001b[0m                                 Traceback (most recent call last)",
      "\u001b[1;32m<ipython-input-5-63495459bdaf>\u001b[0m in \u001b[0;36m<module>\u001b[1;34m\u001b[0m\n\u001b[0;32m      1\u001b[0m \u001b[1;31m#X=tableau/matrices des features\u001b[0m\u001b[1;33m\u001b[0m\u001b[1;33m\u001b[0m\u001b[1;33m\u001b[0m\u001b[0m\n\u001b[1;32m----> 2\u001b[1;33m \u001b[0mX\u001b[0m\u001b[1;33m=\u001b[0m\u001b[0mlist\u001b[0m\u001b[1;33m(\u001b[0m\u001b[0mdtr_clean1\u001b[0m\u001b[1;33m[\u001b[0m\u001b[1;34m\"features\"\u001b[0m\u001b[1;33m]\u001b[0m\u001b[1;33m.\u001b[0m\u001b[0mvalues\u001b[0m\u001b[1;33m)\u001b[0m\u001b[1;33m\u001b[0m\u001b[1;33m\u001b[0m\u001b[0m\n\u001b[0m\u001b[0;32m      3\u001b[0m \u001b[1;31m#y label, vecteur,list des classes\u001b[0m\u001b[1;33m\u001b[0m\u001b[1;33m\u001b[0m\u001b[1;33m\u001b[0m\u001b[0m\n\u001b[0;32m      4\u001b[0m \u001b[0my\u001b[0m\u001b[1;33m=\u001b[0m\u001b[0mlist\u001b[0m\u001b[1;33m(\u001b[0m\u001b[0mnp\u001b[0m\u001b[1;33m.\u001b[0m\u001b[0marray\u001b[0m\u001b[1;33m(\u001b[0m\u001b[0mdtr_clean1\u001b[0m\u001b[1;33m[\u001b[0m\u001b[1;34m\"class\"\u001b[0m\u001b[1;33m]\u001b[0m\u001b[1;33m)\u001b[0m\u001b[1;33m)\u001b[0m\u001b[1;33m\u001b[0m\u001b[1;33m\u001b[0m\u001b[0m\n\u001b[0;32m      5\u001b[0m \u001b[0my\u001b[0m\u001b[1;33m\u001b[0m\u001b[1;33m\u001b[0m\u001b[0m\n",
      "\u001b[1;31mNameError\u001b[0m: name 'dtr_clean1' is not defined"
     ]
    }
   ],
   "source": [
    "#X=tableau/matrices des features\n",
    "X=list(dtr_clean1[\"features\"].values)\n",
    "#y label, vecteur,list des classes\n",
    "y=list(np.array(dtr_clean1[\"class\"]))\n",
    "y\n",
    "#features train et test, labels train et test\n",
    "X_train, X_test, y_train, y_test = train_test_split(X, y, test_size=0.3, random_state=42)"
   ]
  },
  {
   "cell_type": "code",
   "execution_count": 33,
   "metadata": {
    "collapsed": true
   },
   "outputs": [
    {
     "ename": "KeyboardInterrupt",
     "evalue": "",
     "output_type": "error",
     "traceback": [
      "\u001b[1;31m---------------------------------------------------------------------------\u001b[0m",
      "\u001b[1;31mKeyboardInterrupt\u001b[0m                         Traceback (most recent call last)",
      "\u001b[1;32m<ipython-input-33-c6380722b394>\u001b[0m in \u001b[0;36m<module>\u001b[1;34m\u001b[0m\n\u001b[0;32m      1\u001b[0m \u001b[0mscores\u001b[0m \u001b[1;33m=\u001b[0m \u001b[1;33m[\u001b[0m\u001b[1;33m]\u001b[0m\u001b[1;33m\u001b[0m\u001b[1;33m\u001b[0m\u001b[0m\n\u001b[0;32m      2\u001b[0m \u001b[1;32mfor\u001b[0m \u001b[0mname\u001b[0m\u001b[1;33m,\u001b[0m \u001b[0mclf\u001b[0m \u001b[1;32min\u001b[0m \u001b[0mzip\u001b[0m\u001b[1;33m(\u001b[0m\u001b[0mnames\u001b[0m\u001b[1;33m,\u001b[0m \u001b[0mclassifiers\u001b[0m\u001b[1;33m)\u001b[0m\u001b[1;33m:\u001b[0m\u001b[1;33m\u001b[0m\u001b[1;33m\u001b[0m\u001b[0m\n\u001b[1;32m----> 3\u001b[1;33m     \u001b[0mclf\u001b[0m\u001b[1;33m.\u001b[0m\u001b[0mfit\u001b[0m\u001b[1;33m(\u001b[0m\u001b[0mX_train\u001b[0m\u001b[1;33m,\u001b[0m \u001b[0my_train\u001b[0m\u001b[1;33m)\u001b[0m\u001b[1;33m\u001b[0m\u001b[1;33m\u001b[0m\u001b[0m\n\u001b[0m\u001b[0;32m      4\u001b[0m     \u001b[0mscore\u001b[0m \u001b[1;33m=\u001b[0m \u001b[0mclf\u001b[0m\u001b[1;33m.\u001b[0m\u001b[0mscore\u001b[0m\u001b[1;33m(\u001b[0m\u001b[0mX_test\u001b[0m\u001b[1;33m,\u001b[0m \u001b[0my_test\u001b[0m\u001b[1;33m)\u001b[0m\u001b[1;33m\u001b[0m\u001b[1;33m\u001b[0m\u001b[0m\n\u001b[0;32m      5\u001b[0m     \u001b[0mscores\u001b[0m\u001b[1;33m.\u001b[0m\u001b[0mappend\u001b[0m\u001b[1;33m(\u001b[0m\u001b[0mscore\u001b[0m\u001b[1;33m)\u001b[0m\u001b[1;33m\u001b[0m\u001b[1;33m\u001b[0m\u001b[0m\n",
      "\u001b[1;32mc:\\users\\sarah\\anaconda3\\envs\\ml_test2\\lib\\site-packages\\sklearn\\ensemble\\_gb.py\u001b[0m in \u001b[0;36mfit\u001b[1;34m(self, X, y, sample_weight, monitor)\u001b[0m\n\u001b[0;32m    498\u001b[0m         n_stages = self._fit_stages(\n\u001b[0;32m    499\u001b[0m             \u001b[0mX\u001b[0m\u001b[1;33m,\u001b[0m \u001b[0my\u001b[0m\u001b[1;33m,\u001b[0m \u001b[0mraw_predictions\u001b[0m\u001b[1;33m,\u001b[0m \u001b[0msample_weight\u001b[0m\u001b[1;33m,\u001b[0m \u001b[0mself\u001b[0m\u001b[1;33m.\u001b[0m\u001b[0m_rng\u001b[0m\u001b[1;33m,\u001b[0m \u001b[0mX_val\u001b[0m\u001b[1;33m,\u001b[0m \u001b[0my_val\u001b[0m\u001b[1;33m,\u001b[0m\u001b[1;33m\u001b[0m\u001b[1;33m\u001b[0m\u001b[0m\n\u001b[1;32m--> 500\u001b[1;33m             sample_weight_val, begin_at_stage, monitor, X_idx_sorted)\n\u001b[0m\u001b[0;32m    501\u001b[0m \u001b[1;33m\u001b[0m\u001b[0m\n\u001b[0;32m    502\u001b[0m         \u001b[1;31m# change shape of arrays after fit (early-stopping or additional ests)\u001b[0m\u001b[1;33m\u001b[0m\u001b[1;33m\u001b[0m\u001b[1;33m\u001b[0m\u001b[0m\n",
      "\u001b[1;32mc:\\users\\sarah\\anaconda3\\envs\\ml_test2\\lib\\site-packages\\sklearn\\ensemble\\_gb.py\u001b[0m in \u001b[0;36m_fit_stages\u001b[1;34m(self, X, y, raw_predictions, sample_weight, random_state, X_val, y_val, sample_weight_val, begin_at_stage, monitor, X_idx_sorted)\u001b[0m\n\u001b[0;32m    555\u001b[0m             raw_predictions = self._fit_stage(\n\u001b[0;32m    556\u001b[0m                 \u001b[0mi\u001b[0m\u001b[1;33m,\u001b[0m \u001b[0mX\u001b[0m\u001b[1;33m,\u001b[0m \u001b[0my\u001b[0m\u001b[1;33m,\u001b[0m \u001b[0mraw_predictions\u001b[0m\u001b[1;33m,\u001b[0m \u001b[0msample_weight\u001b[0m\u001b[1;33m,\u001b[0m \u001b[0msample_mask\u001b[0m\u001b[1;33m,\u001b[0m\u001b[1;33m\u001b[0m\u001b[1;33m\u001b[0m\u001b[0m\n\u001b[1;32m--> 557\u001b[1;33m                 random_state, X_idx_sorted, X_csc, X_csr)\n\u001b[0m\u001b[0;32m    558\u001b[0m \u001b[1;33m\u001b[0m\u001b[0m\n\u001b[0;32m    559\u001b[0m             \u001b[1;31m# track deviance (= loss)\u001b[0m\u001b[1;33m\u001b[0m\u001b[1;33m\u001b[0m\u001b[1;33m\u001b[0m\u001b[0m\n",
      "\u001b[1;32mc:\\users\\sarah\\anaconda3\\envs\\ml_test2\\lib\\site-packages\\sklearn\\ensemble\\_gb.py\u001b[0m in \u001b[0;36m_fit_stage\u001b[1;34m(self, i, X, y, raw_predictions, sample_weight, sample_mask, random_state, X_idx_sorted, X_csc, X_csr)\u001b[0m\n\u001b[0;32m    210\u001b[0m             \u001b[0mX\u001b[0m \u001b[1;33m=\u001b[0m \u001b[0mX_csr\u001b[0m \u001b[1;32mif\u001b[0m \u001b[0mX_csr\u001b[0m \u001b[1;32mis\u001b[0m \u001b[1;32mnot\u001b[0m \u001b[1;32mNone\u001b[0m \u001b[1;32melse\u001b[0m \u001b[0mX\u001b[0m\u001b[1;33m\u001b[0m\u001b[1;33m\u001b[0m\u001b[0m\n\u001b[0;32m    211\u001b[0m             tree.fit(X, residual, sample_weight=sample_weight,\n\u001b[1;32m--> 212\u001b[1;33m                      check_input=False, X_idx_sorted=X_idx_sorted)\n\u001b[0m\u001b[0;32m    213\u001b[0m \u001b[1;33m\u001b[0m\u001b[0m\n\u001b[0;32m    214\u001b[0m             \u001b[1;31m# update tree leaves\u001b[0m\u001b[1;33m\u001b[0m\u001b[1;33m\u001b[0m\u001b[1;33m\u001b[0m\u001b[0m\n",
      "\u001b[1;32mc:\\users\\sarah\\anaconda3\\envs\\ml_test2\\lib\\site-packages\\sklearn\\tree\\_classes.py\u001b[0m in \u001b[0;36mfit\u001b[1;34m(self, X, y, sample_weight, check_input, X_idx_sorted)\u001b[0m\n\u001b[0;32m   1244\u001b[0m             \u001b[0msample_weight\u001b[0m\u001b[1;33m=\u001b[0m\u001b[0msample_weight\u001b[0m\u001b[1;33m,\u001b[0m\u001b[1;33m\u001b[0m\u001b[1;33m\u001b[0m\u001b[0m\n\u001b[0;32m   1245\u001b[0m             \u001b[0mcheck_input\u001b[0m\u001b[1;33m=\u001b[0m\u001b[0mcheck_input\u001b[0m\u001b[1;33m,\u001b[0m\u001b[1;33m\u001b[0m\u001b[1;33m\u001b[0m\u001b[0m\n\u001b[1;32m-> 1246\u001b[1;33m             X_idx_sorted=X_idx_sorted)\n\u001b[0m\u001b[0;32m   1247\u001b[0m         \u001b[1;32mreturn\u001b[0m \u001b[0mself\u001b[0m\u001b[1;33m\u001b[0m\u001b[1;33m\u001b[0m\u001b[0m\n\u001b[0;32m   1248\u001b[0m \u001b[1;33m\u001b[0m\u001b[0m\n",
      "\u001b[1;32mc:\\users\\sarah\\anaconda3\\envs\\ml_test2\\lib\\site-packages\\sklearn\\tree\\_classes.py\u001b[0m in \u001b[0;36mfit\u001b[1;34m(self, X, y, sample_weight, check_input, X_idx_sorted)\u001b[0m\n\u001b[0;32m    373\u001b[0m                                            min_impurity_split)\n\u001b[0;32m    374\u001b[0m \u001b[1;33m\u001b[0m\u001b[0m\n\u001b[1;32m--> 375\u001b[1;33m         \u001b[0mbuilder\u001b[0m\u001b[1;33m.\u001b[0m\u001b[0mbuild\u001b[0m\u001b[1;33m(\u001b[0m\u001b[0mself\u001b[0m\u001b[1;33m.\u001b[0m\u001b[0mtree_\u001b[0m\u001b[1;33m,\u001b[0m \u001b[0mX\u001b[0m\u001b[1;33m,\u001b[0m \u001b[0my\u001b[0m\u001b[1;33m,\u001b[0m \u001b[0msample_weight\u001b[0m\u001b[1;33m,\u001b[0m \u001b[0mX_idx_sorted\u001b[0m\u001b[1;33m)\u001b[0m\u001b[1;33m\u001b[0m\u001b[1;33m\u001b[0m\u001b[0m\n\u001b[0m\u001b[0;32m    376\u001b[0m \u001b[1;33m\u001b[0m\u001b[0m\n\u001b[0;32m    377\u001b[0m         \u001b[1;32mif\u001b[0m \u001b[0mself\u001b[0m\u001b[1;33m.\u001b[0m\u001b[0mn_outputs_\u001b[0m \u001b[1;33m==\u001b[0m \u001b[1;36m1\u001b[0m \u001b[1;32mand\u001b[0m \u001b[0mis_classifier\u001b[0m\u001b[1;33m(\u001b[0m\u001b[0mself\u001b[0m\u001b[1;33m)\u001b[0m\u001b[1;33m:\u001b[0m\u001b[1;33m\u001b[0m\u001b[1;33m\u001b[0m\u001b[0m\n",
      "\u001b[1;31mKeyboardInterrupt\u001b[0m: "
     ]
    }
   ],
   "source": [
    "\n",
    "scores = []\n",
    "for name, clf in zip(names, classifiers):\n",
    "    clf.fit(X_train, y_train)\n",
    "    score = clf.score(X_test, y_test)\n",
    "    scores.append(score)"
   ]
  },
  {
   "cell_type": "code",
   "execution_count": 34,
   "metadata": {},
   "outputs": [
    {
     "data": {
      "text/plain": [
       "[0.1816261879619852,\n",
       " 0.2787750791974657,\n",
       " 0.31573389651531153,\n",
       " 0.13199577613516367,\n",
       " 0.12143611404435058]"
      ]
     },
     "execution_count": 34,
     "metadata": {},
     "output_type": "execute_result"
    }
   ],
   "source": [
    "scores"
   ]
  },
  {
   "cell_type": "markdown",
   "metadata": {},
   "source": [
    "### Analyse de la performance des modeles"
   ]
  },
  {
   "cell_type": "markdown",
   "metadata": {},
   "source": [
    "#### On crée un dataframe des scores"
   ]
  },
  {
   "cell_type": "code",
   "execution_count": 304,
   "metadata": {},
   "outputs": [
    {
     "data": {
      "text/html": [
       "<div>\n",
       "<style scoped>\n",
       "    .dataframe tbody tr th:only-of-type {\n",
       "        vertical-align: middle;\n",
       "    }\n",
       "\n",
       "    .dataframe tbody tr th {\n",
       "        vertical-align: top;\n",
       "    }\n",
       "\n",
       "    .dataframe thead th {\n",
       "        text-align: right;\n",
       "    }\n",
       "</style>\n",
       "<table border=\"1\" class=\"dataframe\">\n",
       "  <thead>\n",
       "    <tr style=\"text-align: right;\">\n",
       "      <th></th>\n",
       "      <th>name</th>\n",
       "      <th>score</th>\n",
       "    </tr>\n",
       "  </thead>\n",
       "  <tbody>\n",
       "    <tr>\n",
       "      <th>0</th>\n",
       "      <td>Nearest_Neighbors</td>\n",
       "      <td>0.182154</td>\n",
       "    </tr>\n",
       "    <tr>\n",
       "      <th>1</th>\n",
       "      <td>RBF_SVM</td>\n",
       "      <td>0.304646</td>\n",
       "    </tr>\n",
       "    <tr>\n",
       "      <th>2</th>\n",
       "      <td>Gradient_Boosting</td>\n",
       "      <td>0.132524</td>\n",
       "    </tr>\n",
       "  </tbody>\n",
       "</table>\n",
       "</div>"
      ],
      "text/plain": [
       "                name     score\n",
       "0  Nearest_Neighbors  0.182154\n",
       "1            RBF_SVM  0.304646\n",
       "2  Gradient_Boosting  0.132524"
      ]
     },
     "execution_count": 304,
     "metadata": {},
     "output_type": "execute_result"
    }
   ],
   "source": [
    "df = pd.DataFrame()\n",
    "df['name'] = names\n",
    "df['score'] = scores\n",
    "df"
   ]
  },
  {
   "cell_type": "code",
   "execution_count": 306,
   "metadata": {},
   "outputs": [
    {
     "data": {
      "text/html": [
       "<style  type=\"text/css\" >\n",
       "    #T_361b2226_47e0_11eb_9129_7cb0c2642b1frow0_col1 {\n",
       "            background-color:  #a7d2a7;\n",
       "            color:  #000000;\n",
       "        }    #T_361b2226_47e0_11eb_9129_7cb0c2642b1frow1_col1 {\n",
       "            background-color:  #008000;\n",
       "            color:  #f1f1f1;\n",
       "        }    #T_361b2226_47e0_11eb_9129_7cb0c2642b1frow2_col1 {\n",
       "            background-color:  #ebf3eb;\n",
       "            color:  #000000;\n",
       "        }</style><table id=\"T_361b2226_47e0_11eb_9129_7cb0c2642b1f\" ><thead>    <tr>        <th class=\"blank level0\" ></th>        <th class=\"col_heading level0 col0\" >name</th>        <th class=\"col_heading level0 col1\" >score</th>    </tr></thead><tbody>\n",
       "                <tr>\n",
       "                        <th id=\"T_361b2226_47e0_11eb_9129_7cb0c2642b1flevel0_row0\" class=\"row_heading level0 row0\" >0</th>\n",
       "                        <td id=\"T_361b2226_47e0_11eb_9129_7cb0c2642b1frow0_col0\" class=\"data row0 col0\" >Nearest_Neighbors</td>\n",
       "                        <td id=\"T_361b2226_47e0_11eb_9129_7cb0c2642b1frow0_col1\" class=\"data row0 col1\" >0.182154</td>\n",
       "            </tr>\n",
       "            <tr>\n",
       "                        <th id=\"T_361b2226_47e0_11eb_9129_7cb0c2642b1flevel0_row1\" class=\"row_heading level0 row1\" >1</th>\n",
       "                        <td id=\"T_361b2226_47e0_11eb_9129_7cb0c2642b1frow1_col0\" class=\"data row1 col0\" >RBF_SVM</td>\n",
       "                        <td id=\"T_361b2226_47e0_11eb_9129_7cb0c2642b1frow1_col1\" class=\"data row1 col1\" >0.304646</td>\n",
       "            </tr>\n",
       "            <tr>\n",
       "                        <th id=\"T_361b2226_47e0_11eb_9129_7cb0c2642b1flevel0_row2\" class=\"row_heading level0 row2\" >2</th>\n",
       "                        <td id=\"T_361b2226_47e0_11eb_9129_7cb0c2642b1frow2_col0\" class=\"data row2 col0\" >Gradient_Boosting</td>\n",
       "                        <td id=\"T_361b2226_47e0_11eb_9129_7cb0c2642b1frow2_col1\" class=\"data row2 col1\" >0.132524</td>\n",
       "            </tr>\n",
       "    </tbody></table>"
      ],
      "text/plain": [
       "<pandas.io.formats.style.Styler at 0x1b504914a08>"
      ]
     },
     "execution_count": 306,
     "metadata": {},
     "output_type": "execute_result"
    }
   ],
   "source": [
    "import seaborn as sns\n",
    "\n",
    "#les couleurs\n",
    "cm = sns.light_palette(\"green\", as_cmap=True)\n",
    "s = df.style.background_gradient(cmap=cm)\n",
    "s"
   ]
  },
  {
   "cell_type": "code",
   "execution_count": 307,
   "metadata": {},
   "outputs": [
    {
     "data": {
      "image/png": "[encoded data removed]",
      "text/plain": [
       "<Figure size 432x288 with 1 Axes>"
      ]
     },
     "metadata": {},
     "output_type": "display_data"
    }
   ],
   "source": [
    "#barplot\n",
    "sns.set(style=\"whitegrid\")\n",
    "ax = sns.barplot(y=\"name\", x=\"score\", data=df)"
   ]
  },
  {
   "cell_type": "code",
   "execution_count": null,
   "metadata": {},
   "outputs": [],
   "source": []
  },
  {
   "cell_type": "code",
   "execution_count": null,
   "metadata": {},
   "outputs": [],
   "source": []
  }
 ],
 "metadata": {
  "kernelspec": {
   "display_name": "Python 3",
   "language": "python",
   "name": "python3"
  },
  "language_info": {
   "codemirror_mode": {
    "name": "ipython",
    "version": 3
   },
   "file_extension": ".py",
   "mimetype": "text/x-python",
   "name": "python",
   "nbconvert_exporter": "python",
   "pygments_lexer": "ipython3",
   "version": "3.7.9"
  }
 },
 "nbformat": 4,
 "nbformat_minor": 4
}
